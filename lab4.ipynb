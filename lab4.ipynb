{
 "cells": [
  {
   "cell_type": "markdown",
   "metadata": {},
   "source": [
    "# Laboratorium 4"
   ]
  },
  {
   "cell_type": "markdown",
   "metadata": {},
   "source": [
    "Konrad Dębiec\n",
    "\n",
    "W tym laboratorium wykorzystałem materiał z laboratorium 2, czyli danych o szybkości wykonywania mnożenia dwóch wektorów oraz macierzy z wektorem."
   ]
  },
  {
   "cell_type": "markdown",
   "metadata": {},
   "source": [
    "## Zadanie 1, 2"
   ]
  },
  {
   "cell_type": "markdown",
   "metadata": {},
   "source": [
    "Poniżej odczytuję dane wygenerowane w laboratorium 2. Dane zawierają po 10 pomiarów szybkości działania mnożenia dwóch wektorów oraz macierzy z wektorem dla danego rozmiaru wektora/macierzy (jest łącznie 7 różnych rozmiarów)."
   ]
  },
  {
   "cell_type": "code",
   "execution_count": 128,
   "metadata": {},
   "outputs": [],
   "source": [
    "measuredTimes = read.csv(\"measuredTimes.csv\")"
   ]
  },
  {
   "cell_type": "code",
   "execution_count": 129,
   "metadata": {
    "scrolled": false
   },
   "outputs": [
    {
     "data": {
      "text/html": [
       "<table>\n",
       "<thead><tr><th scope=col>vectorSize</th><th scope=col>dotTime</th><th scope=col>multiplicationTime</th></tr></thead>\n",
       "<tbody>\n",
       "\t<tr><td> 100        </td><td>9.536743e-07</td><td>1.192093e-05</td></tr>\n",
       "\t<tr><td> 100        </td><td>9.536743e-07</td><td>1.096725e-05</td></tr>\n",
       "\t<tr><td> 100        </td><td>0.000000e+00</td><td>2.884865e-05</td></tr>\n",
       "\t<tr><td> 100        </td><td>0.000000e+00</td><td>1.192093e-05</td></tr>\n",
       "\t<tr><td> 100        </td><td>9.536743e-07</td><td>1.192093e-05</td></tr>\n",
       "\t<tr><td> 100        </td><td>0.000000e+00</td><td>1.192093e-05</td></tr>\n",
       "\t<tr><td> 100        </td><td>0.000000e+00</td><td>1.096725e-05</td></tr>\n",
       "\t<tr><td> 100        </td><td>9.536743e-07</td><td>1.096725e-05</td></tr>\n",
       "\t<tr><td> 100        </td><td>0.000000e+00</td><td>1.096725e-05</td></tr>\n",
       "\t<tr><td> 100        </td><td>0.000000e+00</td><td>1.096725e-05</td></tr>\n",
       "\t<tr><td> 500        </td><td>9.536743e-07</td><td>2.870560e-04</td></tr>\n",
       "\t<tr><td> 500        </td><td>1.907349e-06</td><td>2.858639e-04</td></tr>\n",
       "\t<tr><td> 500        </td><td>9.536743e-07</td><td>2.861023e-04</td></tr>\n",
       "\t<tr><td> 500        </td><td>2.145767e-06</td><td>4.060268e-04</td></tr>\n",
       "\t<tr><td> 500        </td><td>1.192093e-06</td><td>2.839565e-04</td></tr>\n",
       "\t<tr><td> 500        </td><td>9.536743e-07</td><td>2.858639e-04</td></tr>\n",
       "\t<tr><td> 500        </td><td>9.536743e-07</td><td>2.889633e-04</td></tr>\n",
       "\t<tr><td> 500        </td><td>9.536743e-07</td><td>2.880096e-04</td></tr>\n",
       "\t<tr><td> 500        </td><td>1.907349e-06</td><td>2.861023e-04</td></tr>\n",
       "\t<tr><td> 500        </td><td>9.536743e-07</td><td>2.861023e-04</td></tr>\n",
       "\t<tr><td>1000        </td><td>1.907349e-06</td><td>1.156092e-03</td></tr>\n",
       "\t<tr><td>1000        </td><td>3.099442e-06</td><td>1.152992e-03</td></tr>\n",
       "\t<tr><td>1000        </td><td>2.861023e-06</td><td>1.175165e-03</td></tr>\n",
       "\t<tr><td>1000        </td><td>1.907349e-06</td><td>1.164913e-03</td></tr>\n",
       "\t<tr><td>1000        </td><td>2.861023e-06</td><td>1.168966e-03</td></tr>\n",
       "\t<tr><td>1000        </td><td>1.907349e-06</td><td>1.171112e-03</td></tr>\n",
       "\t<tr><td>1000        </td><td>2.145767e-06</td><td>1.152992e-03</td></tr>\n",
       "\t<tr><td>1000        </td><td>1.907349e-06</td><td>1.147032e-03</td></tr>\n",
       "\t<tr><td>1000        </td><td>1.907349e-06</td><td>1.147032e-03</td></tr>\n",
       "\t<tr><td>1000        </td><td>1.907349e-06</td><td>1.160145e-03</td></tr>\n",
       "\t<tr><td>...</td><td>...</td><td>...</td></tr>\n",
       "\t<tr><td>10000       </td><td>3.004074e-05</td><td>0.1431940   </td></tr>\n",
       "\t<tr><td>10000       </td><td>2.598763e-05</td><td>0.1433511   </td></tr>\n",
       "\t<tr><td>10000       </td><td>2.884865e-05</td><td>0.1435490   </td></tr>\n",
       "\t<tr><td>10000       </td><td>2.503395e-05</td><td>0.1434128   </td></tr>\n",
       "\t<tr><td>10000       </td><td>3.099442e-05</td><td>0.1434321   </td></tr>\n",
       "\t<tr><td>10000       </td><td>2.598763e-05</td><td>0.1435401   </td></tr>\n",
       "\t<tr><td>10000       </td><td>2.789497e-05</td><td>0.1433890   </td></tr>\n",
       "\t<tr><td>10000       </td><td>2.408028e-05</td><td>0.1434059   </td></tr>\n",
       "\t<tr><td>10000       </td><td>3.004074e-05</td><td>0.1433549   </td></tr>\n",
       "\t<tr><td>10000       </td><td>2.694130e-05</td><td>0.1432791   </td></tr>\n",
       "\t<tr><td>15000       </td><td>3.981590e-05</td><td>0.3257651   </td></tr>\n",
       "\t<tr><td>15000       </td><td>3.600121e-05</td><td>0.3280580   </td></tr>\n",
       "\t<tr><td>15000       </td><td>3.886223e-05</td><td>0.3252971   </td></tr>\n",
       "\t<tr><td>15000       </td><td>3.504753e-05</td><td>0.3304398   </td></tr>\n",
       "\t<tr><td>15000       </td><td>3.790855e-05</td><td>0.3249121   </td></tr>\n",
       "\t<tr><td>15000       </td><td>3.600121e-05</td><td>0.3268611   </td></tr>\n",
       "\t<tr><td>15000       </td><td>3.886223e-05</td><td>0.3253891   </td></tr>\n",
       "\t<tr><td>15000       </td><td>3.695488e-05</td><td>0.3257751   </td></tr>\n",
       "\t<tr><td>15000       </td><td>3.910065e-05</td><td>0.3255060   </td></tr>\n",
       "\t<tr><td>15000       </td><td>3.695488e-05</td><td>0.3257940   </td></tr>\n",
       "\t<tr><td>20000       </td><td>5.006790e-05</td><td>0.5995209   </td></tr>\n",
       "\t<tr><td>20000       </td><td>4.816055e-05</td><td>0.6030760   </td></tr>\n",
       "\t<tr><td>20000       </td><td>4.792213e-05</td><td>0.6015460   </td></tr>\n",
       "\t<tr><td>20000       </td><td>4.816055e-05</td><td>0.6011660   </td></tr>\n",
       "\t<tr><td>20000       </td><td>4.792213e-05</td><td>0.6024370   </td></tr>\n",
       "\t<tr><td>20000       </td><td>4.816055e-05</td><td>0.6011698   </td></tr>\n",
       "\t<tr><td>20000       </td><td>4.816055e-05</td><td>0.5992970   </td></tr>\n",
       "\t<tr><td>20000       </td><td>4.887581e-05</td><td>0.6021261   </td></tr>\n",
       "\t<tr><td>20000       </td><td>4.982948e-05</td><td>0.6022000   </td></tr>\n",
       "\t<tr><td>20000       </td><td>4.887581e-05</td><td>0.6003730   </td></tr>\n",
       "</tbody>\n",
       "</table>\n"
      ],
      "text/latex": [
       "\\begin{tabular}{r|lll}\n",
       " vectorSize & dotTime & multiplicationTime\\\\\n",
       "\\hline\n",
       "\t  100         & 9.536743e-07 & 1.192093e-05\\\\\n",
       "\t  100         & 9.536743e-07 & 1.096725e-05\\\\\n",
       "\t  100         & 0.000000e+00 & 2.884865e-05\\\\\n",
       "\t  100         & 0.000000e+00 & 1.192093e-05\\\\\n",
       "\t  100         & 9.536743e-07 & 1.192093e-05\\\\\n",
       "\t  100         & 0.000000e+00 & 1.192093e-05\\\\\n",
       "\t  100         & 0.000000e+00 & 1.096725e-05\\\\\n",
       "\t  100         & 9.536743e-07 & 1.096725e-05\\\\\n",
       "\t  100         & 0.000000e+00 & 1.096725e-05\\\\\n",
       "\t  100         & 0.000000e+00 & 1.096725e-05\\\\\n",
       "\t  500         & 9.536743e-07 & 2.870560e-04\\\\\n",
       "\t  500         & 1.907349e-06 & 2.858639e-04\\\\\n",
       "\t  500         & 9.536743e-07 & 2.861023e-04\\\\\n",
       "\t  500         & 2.145767e-06 & 4.060268e-04\\\\\n",
       "\t  500         & 1.192093e-06 & 2.839565e-04\\\\\n",
       "\t  500         & 9.536743e-07 & 2.858639e-04\\\\\n",
       "\t  500         & 9.536743e-07 & 2.889633e-04\\\\\n",
       "\t  500         & 9.536743e-07 & 2.880096e-04\\\\\n",
       "\t  500         & 1.907349e-06 & 2.861023e-04\\\\\n",
       "\t  500         & 9.536743e-07 & 2.861023e-04\\\\\n",
       "\t 1000         & 1.907349e-06 & 1.156092e-03\\\\\n",
       "\t 1000         & 3.099442e-06 & 1.152992e-03\\\\\n",
       "\t 1000         & 2.861023e-06 & 1.175165e-03\\\\\n",
       "\t 1000         & 1.907349e-06 & 1.164913e-03\\\\\n",
       "\t 1000         & 2.861023e-06 & 1.168966e-03\\\\\n",
       "\t 1000         & 1.907349e-06 & 1.171112e-03\\\\\n",
       "\t 1000         & 2.145767e-06 & 1.152992e-03\\\\\n",
       "\t 1000         & 1.907349e-06 & 1.147032e-03\\\\\n",
       "\t 1000         & 1.907349e-06 & 1.147032e-03\\\\\n",
       "\t 1000         & 1.907349e-06 & 1.160145e-03\\\\\n",
       "\t ... & ... & ...\\\\\n",
       "\t 10000        & 3.004074e-05 & 0.1431940   \\\\\n",
       "\t 10000        & 2.598763e-05 & 0.1433511   \\\\\n",
       "\t 10000        & 2.884865e-05 & 0.1435490   \\\\\n",
       "\t 10000        & 2.503395e-05 & 0.1434128   \\\\\n",
       "\t 10000        & 3.099442e-05 & 0.1434321   \\\\\n",
       "\t 10000        & 2.598763e-05 & 0.1435401   \\\\\n",
       "\t 10000        & 2.789497e-05 & 0.1433890   \\\\\n",
       "\t 10000        & 2.408028e-05 & 0.1434059   \\\\\n",
       "\t 10000        & 3.004074e-05 & 0.1433549   \\\\\n",
       "\t 10000        & 2.694130e-05 & 0.1432791   \\\\\n",
       "\t 15000        & 3.981590e-05 & 0.3257651   \\\\\n",
       "\t 15000        & 3.600121e-05 & 0.3280580   \\\\\n",
       "\t 15000        & 3.886223e-05 & 0.3252971   \\\\\n",
       "\t 15000        & 3.504753e-05 & 0.3304398   \\\\\n",
       "\t 15000        & 3.790855e-05 & 0.3249121   \\\\\n",
       "\t 15000        & 3.600121e-05 & 0.3268611   \\\\\n",
       "\t 15000        & 3.886223e-05 & 0.3253891   \\\\\n",
       "\t 15000        & 3.695488e-05 & 0.3257751   \\\\\n",
       "\t 15000        & 3.910065e-05 & 0.3255060   \\\\\n",
       "\t 15000        & 3.695488e-05 & 0.3257940   \\\\\n",
       "\t 20000        & 5.006790e-05 & 0.5995209   \\\\\n",
       "\t 20000        & 4.816055e-05 & 0.6030760   \\\\\n",
       "\t 20000        & 4.792213e-05 & 0.6015460   \\\\\n",
       "\t 20000        & 4.816055e-05 & 0.6011660   \\\\\n",
       "\t 20000        & 4.792213e-05 & 0.6024370   \\\\\n",
       "\t 20000        & 4.816055e-05 & 0.6011698   \\\\\n",
       "\t 20000        & 4.816055e-05 & 0.5992970   \\\\\n",
       "\t 20000        & 4.887581e-05 & 0.6021261   \\\\\n",
       "\t 20000        & 4.982948e-05 & 0.6022000   \\\\\n",
       "\t 20000        & 4.887581e-05 & 0.6003730   \\\\\n",
       "\\end{tabular}\n"
      ],
      "text/markdown": [
       "\n",
       "| vectorSize | dotTime | multiplicationTime |\n",
       "|---|---|---|\n",
       "|  100         | 9.536743e-07 | 1.192093e-05 |\n",
       "|  100         | 9.536743e-07 | 1.096725e-05 |\n",
       "|  100         | 0.000000e+00 | 2.884865e-05 |\n",
       "|  100         | 0.000000e+00 | 1.192093e-05 |\n",
       "|  100         | 9.536743e-07 | 1.192093e-05 |\n",
       "|  100         | 0.000000e+00 | 1.192093e-05 |\n",
       "|  100         | 0.000000e+00 | 1.096725e-05 |\n",
       "|  100         | 9.536743e-07 | 1.096725e-05 |\n",
       "|  100         | 0.000000e+00 | 1.096725e-05 |\n",
       "|  100         | 0.000000e+00 | 1.096725e-05 |\n",
       "|  500         | 9.536743e-07 | 2.870560e-04 |\n",
       "|  500         | 1.907349e-06 | 2.858639e-04 |\n",
       "|  500         | 9.536743e-07 | 2.861023e-04 |\n",
       "|  500         | 2.145767e-06 | 4.060268e-04 |\n",
       "|  500         | 1.192093e-06 | 2.839565e-04 |\n",
       "|  500         | 9.536743e-07 | 2.858639e-04 |\n",
       "|  500         | 9.536743e-07 | 2.889633e-04 |\n",
       "|  500         | 9.536743e-07 | 2.880096e-04 |\n",
       "|  500         | 1.907349e-06 | 2.861023e-04 |\n",
       "|  500         | 9.536743e-07 | 2.861023e-04 |\n",
       "| 1000         | 1.907349e-06 | 1.156092e-03 |\n",
       "| 1000         | 3.099442e-06 | 1.152992e-03 |\n",
       "| 1000         | 2.861023e-06 | 1.175165e-03 |\n",
       "| 1000         | 1.907349e-06 | 1.164913e-03 |\n",
       "| 1000         | 2.861023e-06 | 1.168966e-03 |\n",
       "| 1000         | 1.907349e-06 | 1.171112e-03 |\n",
       "| 1000         | 2.145767e-06 | 1.152992e-03 |\n",
       "| 1000         | 1.907349e-06 | 1.147032e-03 |\n",
       "| 1000         | 1.907349e-06 | 1.147032e-03 |\n",
       "| 1000         | 1.907349e-06 | 1.160145e-03 |\n",
       "| ... | ... | ... |\n",
       "| 10000        | 3.004074e-05 | 0.1431940    |\n",
       "| 10000        | 2.598763e-05 | 0.1433511    |\n",
       "| 10000        | 2.884865e-05 | 0.1435490    |\n",
       "| 10000        | 2.503395e-05 | 0.1434128    |\n",
       "| 10000        | 3.099442e-05 | 0.1434321    |\n",
       "| 10000        | 2.598763e-05 | 0.1435401    |\n",
       "| 10000        | 2.789497e-05 | 0.1433890    |\n",
       "| 10000        | 2.408028e-05 | 0.1434059    |\n",
       "| 10000        | 3.004074e-05 | 0.1433549    |\n",
       "| 10000        | 2.694130e-05 | 0.1432791    |\n",
       "| 15000        | 3.981590e-05 | 0.3257651    |\n",
       "| 15000        | 3.600121e-05 | 0.3280580    |\n",
       "| 15000        | 3.886223e-05 | 0.3252971    |\n",
       "| 15000        | 3.504753e-05 | 0.3304398    |\n",
       "| 15000        | 3.790855e-05 | 0.3249121    |\n",
       "| 15000        | 3.600121e-05 | 0.3268611    |\n",
       "| 15000        | 3.886223e-05 | 0.3253891    |\n",
       "| 15000        | 3.695488e-05 | 0.3257751    |\n",
       "| 15000        | 3.910065e-05 | 0.3255060    |\n",
       "| 15000        | 3.695488e-05 | 0.3257940    |\n",
       "| 20000        | 5.006790e-05 | 0.5995209    |\n",
       "| 20000        | 4.816055e-05 | 0.6030760    |\n",
       "| 20000        | 4.792213e-05 | 0.6015460    |\n",
       "| 20000        | 4.816055e-05 | 0.6011660    |\n",
       "| 20000        | 4.792213e-05 | 0.6024370    |\n",
       "| 20000        | 4.816055e-05 | 0.6011698    |\n",
       "| 20000        | 4.816055e-05 | 0.5992970    |\n",
       "| 20000        | 4.887581e-05 | 0.6021261    |\n",
       "| 20000        | 4.982948e-05 | 0.6022000    |\n",
       "| 20000        | 4.887581e-05 | 0.6003730    |\n",
       "\n"
      ],
      "text/plain": [
       "    vectorSize dotTime      multiplicationTime\n",
       "1    100       9.536743e-07 1.192093e-05      \n",
       "2    100       9.536743e-07 1.096725e-05      \n",
       "3    100       0.000000e+00 2.884865e-05      \n",
       "4    100       0.000000e+00 1.192093e-05      \n",
       "5    100       9.536743e-07 1.192093e-05      \n",
       "6    100       0.000000e+00 1.192093e-05      \n",
       "7    100       0.000000e+00 1.096725e-05      \n",
       "8    100       9.536743e-07 1.096725e-05      \n",
       "9    100       0.000000e+00 1.096725e-05      \n",
       "10   100       0.000000e+00 1.096725e-05      \n",
       "11   500       9.536743e-07 2.870560e-04      \n",
       "12   500       1.907349e-06 2.858639e-04      \n",
       "13   500       9.536743e-07 2.861023e-04      \n",
       "14   500       2.145767e-06 4.060268e-04      \n",
       "15   500       1.192093e-06 2.839565e-04      \n",
       "16   500       9.536743e-07 2.858639e-04      \n",
       "17   500       9.536743e-07 2.889633e-04      \n",
       "18   500       9.536743e-07 2.880096e-04      \n",
       "19   500       1.907349e-06 2.861023e-04      \n",
       "20   500       9.536743e-07 2.861023e-04      \n",
       "21  1000       1.907349e-06 1.156092e-03      \n",
       "22  1000       3.099442e-06 1.152992e-03      \n",
       "23  1000       2.861023e-06 1.175165e-03      \n",
       "24  1000       1.907349e-06 1.164913e-03      \n",
       "25  1000       2.861023e-06 1.168966e-03      \n",
       "26  1000       1.907349e-06 1.171112e-03      \n",
       "27  1000       2.145767e-06 1.152992e-03      \n",
       "28  1000       1.907349e-06 1.147032e-03      \n",
       "29  1000       1.907349e-06 1.147032e-03      \n",
       "30  1000       1.907349e-06 1.160145e-03      \n",
       "... ...        ...          ...               \n",
       "41  10000      3.004074e-05 0.1431940         \n",
       "42  10000      2.598763e-05 0.1433511         \n",
       "43  10000      2.884865e-05 0.1435490         \n",
       "44  10000      2.503395e-05 0.1434128         \n",
       "45  10000      3.099442e-05 0.1434321         \n",
       "46  10000      2.598763e-05 0.1435401         \n",
       "47  10000      2.789497e-05 0.1433890         \n",
       "48  10000      2.408028e-05 0.1434059         \n",
       "49  10000      3.004074e-05 0.1433549         \n",
       "50  10000      2.694130e-05 0.1432791         \n",
       "51  15000      3.981590e-05 0.3257651         \n",
       "52  15000      3.600121e-05 0.3280580         \n",
       "53  15000      3.886223e-05 0.3252971         \n",
       "54  15000      3.504753e-05 0.3304398         \n",
       "55  15000      3.790855e-05 0.3249121         \n",
       "56  15000      3.600121e-05 0.3268611         \n",
       "57  15000      3.886223e-05 0.3253891         \n",
       "58  15000      3.695488e-05 0.3257751         \n",
       "59  15000      3.910065e-05 0.3255060         \n",
       "60  15000      3.695488e-05 0.3257940         \n",
       "61  20000      5.006790e-05 0.5995209         \n",
       "62  20000      4.816055e-05 0.6030760         \n",
       "63  20000      4.792213e-05 0.6015460         \n",
       "64  20000      4.816055e-05 0.6011660         \n",
       "65  20000      4.792213e-05 0.6024370         \n",
       "66  20000      4.816055e-05 0.6011698         \n",
       "67  20000      4.816055e-05 0.5992970         \n",
       "68  20000      4.887581e-05 0.6021261         \n",
       "69  20000      4.982948e-05 0.6022000         \n",
       "70  20000      4.887581e-05 0.6003730         "
      ]
     },
     "metadata": {},
     "output_type": "display_data"
    }
   ],
   "source": [
    "measuredTimes"
   ]
  },
  {
   "cell_type": "markdown",
   "metadata": {},
   "source": [
    "## Zadanie 3, 4"
   ]
  },
  {
   "cell_type": "markdown",
   "metadata": {},
   "source": [
    "Podczas rysowania wykresów korzystam z pakietu ggplot2"
   ]
  },
  {
   "cell_type": "code",
   "execution_count": 130,
   "metadata": {},
   "outputs": [],
   "source": [
    "library(\"ggplot2\")"
   ]
  },
  {
   "cell_type": "markdown",
   "metadata": {},
   "source": [
    "Rysowanie wykresu czasu mnożenia dwóch wektorów od ich rozmiaru wraz ze słupkami błędu"
   ]
  },
  {
   "cell_type": "code",
   "execution_count": 131,
   "metadata": {
    "scrolled": false
   },
   "outputs": [
    {
     "data": {
      "image/png": "[encoded data removed]",
      "text/plain": [
       "plot without title"
      ]
     },
     "metadata": {},
     "output_type": "display_data"
    }
   ],
   "source": [
    "measuredDotTimes = measuredTimes[c(1,2)]\n",
    "measuredDotTimes_mean = aggregate(dotTime ~ vectorSize, \n",
    "                                  data=measuredDotTimes, \n",
    "                                  FUN=mean)\n",
    "measuredDotTimes_mean$var = aggregate(dotTime ~ vectorSize, \n",
    "                                      data=measuredDotTimes, \n",
    "                                      FUN=sd)$dotTime\n",
    "plt1 = ggplot(measuredDotTimes_mean, aes(vectorSize,dotTime)) + \n",
    "        geom_point() + \n",
    "        geom_errorbar(aes(ymin=dotTime - var, ymax=dotTime + var)) + \n",
    "        ggtitle(\"Graph of the time of dotting two vectors from their size\") +\n",
    "        xlab(\"Size of vector\") + \n",
    "        ylab(\"Time of dotting two vectors [s]\")\n",
    "plt1"
   ]
  },
  {
   "cell_type": "markdown",
   "metadata": {},
   "source": [
    "Rysowanie wykresu czasu mnożenia wektora z macierzą od ich rozmiaru wraz ze słupkami błędu"
   ]
  },
  {
   "cell_type": "code",
   "execution_count": 132,
   "metadata": {},
   "outputs": [
    {
     "data": {
      "image/png": "[encoded data removed]",
      "text/plain": [
       "plot without title"
      ]
     },
     "metadata": {},
     "output_type": "display_data"
    }
   ],
   "source": [
    "measuredMultiplicationTimes = measuredTimes[c(1,3)]\n",
    "measuredMultiplicationTimes_mean = aggregate(multiplicationTime ~ vectorSize, \n",
    "                                  data=measuredMultiplicationTimes, \n",
    "                                  FUN=mean)\n",
    "measuredMultiplicationTimes_mean$var = aggregate(multiplicationTime ~ vectorSize, \n",
    "                                      data=measuredMultiplicationTimes, \n",
    "                                      FUN=sd)$multiplicationTime\n",
    "plt2 = ggplot(measuredMultiplicationTimes_mean, \n",
    "              aes(vectorSize, multiplicationTime)) + \n",
    "        geom_point() +\n",
    "        geom_errorbar(aes(ymin=multiplicationTime - var, \n",
    "                            ymax=multiplicationTime + var)) + \n",
    "        ggtitle(\"Graph of the time of multiplication of the vector \\nwith the matrix from their size\") +\n",
    "        xlab(\"Size of vector/matrix\") + \n",
    "        ylab(\"Time of multiplication of the vector with the matrix [s]\")\n",
    "plt2"
   ]
  },
  {
   "cell_type": "markdown",
   "metadata": {},
   "source": [
    "## Zadanie 5"
   ]
  },
  {
   "cell_type": "markdown",
   "metadata": {},
   "source": [
    "Korzystając z regresji liniowej aproksymuję czas mnożenia dwóch wektorów od ich rozmiaru"
   ]
  },
  {
   "cell_type": "code",
   "execution_count": 133,
   "metadata": {
    "scrolled": true
   },
   "outputs": [],
   "source": [
    "dotTimesLMApproximation = lm(dotTime ~ poly(vectorSize, 1, raw=TRUE), \n",
    "                             data=measuredDotTimes)"
   ]
  },
  {
   "cell_type": "markdown",
   "metadata": {},
   "source": [
    "Dorysowuję uzyskany wielomian do wykresu"
   ]
  },
  {
   "cell_type": "code",
   "execution_count": 134,
   "metadata": {
    "scrolled": false
   },
   "outputs": [
    {
     "data": {
      "image/png": "[encoded data removed]",
      "text/plain": [
       "plot without title"
      ]
     },
     "metadata": {},
     "output_type": "display_data"
    }
   ],
   "source": [
    "generatedVectorSizes = data.frame(vectorSize = seq(100, 25000, by=1000))\n",
    "generatedVectorSizes$dotTime = predict(dotTimesLMApproximation, \n",
    "                                       generatedVectorSizes)\n",
    "\n",
    "plt1 + geom_line(data=generatedVectorSizes, \n",
    "                 aes(vectorSize, dotTime))"
   ]
  },
  {
   "cell_type": "markdown",
   "metadata": {},
   "source": [
    "Korzystając z regresji wielomianowej stopnia 2 aproksymuję czas mnożenia dwóch wektorów od ich rozmiaru"
   ]
  },
  {
   "cell_type": "code",
   "execution_count": 135,
   "metadata": {},
   "outputs": [],
   "source": [
    "multiplicationTimesLMApproximation = \n",
    "    lm( multiplicationTime ~ poly(vectorSize, 2, raw=TRUE), \n",
    "        data=measuredMultiplicationTimes                    )"
   ]
  },
  {
   "cell_type": "code",
   "execution_count": 136,
   "metadata": {},
   "outputs": [
    {
     "data": {
      "image/png": "[encoded data removed]",
      "text/plain": [
       "plot without title"
      ]
     },
     "metadata": {},
     "output_type": "display_data"
    }
   ],
   "source": [
    "generatedVectorSizes2 = data.frame(vectorSize = seq(100, 25000, by=1000))\n",
    "generatedVectorSizes2$multiplicationTime = \n",
    "        predict( multiplicationTimesLMApproximation, \n",
    "                 generatedVectorSizes2              )\n",
    "\n",
    "plt2 + geom_line(data=generatedVectorSizes2, \n",
    "                 aes(vectorSize, multiplicationTime))"
   ]
  },
  {
   "cell_type": "markdown",
   "metadata": {},
   "source": [
    "## Zadanie 6"
   ]
  },
  {
   "cell_type": "markdown",
   "metadata": {},
   "source": [
    "W tym zadaniu analizuję liczbę zakażonych koronawirusem w Polsce poprzez aproksymację krzywą wykładniczą danych z ostatnich 14 dni (do momentu pisania notebook'a, czyli 02.04.2020) oraz pierwszych 14 dni. Korzystam z danych znajdujących się w Google Sheets: https://docs.google.com/spreadsheets/d/1ZIdpVF5AfbkFvGxey92RQLjRVWF8_oWN5-hSbFDL8g0/htmlview. Aby sprawnie posługiwać się zawartymi tam danymi korzystam z paczki googlesheets4, która pomaga w przetwarzaniu danych znajdujących się w Google Sheets"
   ]
  },
  {
   "cell_type": "code",
   "execution_count": 137,
   "metadata": {
    "scrolled": true
   },
   "outputs": [
    {
     "name": "stderr",
     "output_type": "stream",
     "text": [
      "Warning message:\n",
      "\"package 'googlesheets4' is in use and will not be installed\"Warning message:\n",
      "\"package 'tidyverse' is in use and will not be installed\""
     ]
    }
   ],
   "source": [
    "install.packages(\"googlesheets4\")\n",
    "install.packages(\"tidyverse\")"
   ]
  },
  {
   "cell_type": "code",
   "execution_count": 138,
   "metadata": {},
   "outputs": [],
   "source": [
    "library(\"googlesheets4\")\n",
    "library(\"tidyverse\")"
   ]
  },
  {
   "cell_type": "code",
   "execution_count": 139,
   "metadata": {
    "scrolled": true
   },
   "outputs": [
    {
     "name": "stderr",
     "output_type": "stream",
     "text": [
      "Reading from 'COVID-19 prognoza'\n",
      "Range \"A:C\"\n",
      "New names:\n",
      "* `` -> ...1\n"
     ]
    }
   ],
   "source": [
    "sheets_deauth()\n",
    "covidInPoland = read_sheet(\"https://docs.google.com/spreadsheets/d/1ZIdpVF5AfbkFvGxey92RQLjRVWF8_oWN5-hSbFDL8g0/htmlview\",\n",
    "          range=\"A:C\")"
   ]
  },
  {
   "cell_type": "markdown",
   "metadata": {},
   "source": [
    "Wyłuskiwanie istotnych w celu przetworzenia danych"
   ]
  },
  {
   "cell_type": "code",
   "execution_count": 140,
   "metadata": {},
   "outputs": [
    {
     "data": {
      "text/html": [
       "<table>\n",
       "<thead><tr><th scope=col>Day</th><th scope=col>Reported</th></tr></thead>\n",
       "<tbody>\n",
       "\t<tr><td> 0  </td><td>   1</td></tr>\n",
       "\t<tr><td> 1  </td><td>   1</td></tr>\n",
       "\t<tr><td> 2  </td><td>   5</td></tr>\n",
       "\t<tr><td> 3  </td><td>   6</td></tr>\n",
       "\t<tr><td> 4  </td><td>  11</td></tr>\n",
       "\t<tr><td> 5  </td><td>  17</td></tr>\n",
       "\t<tr><td> 6  </td><td>  22</td></tr>\n",
       "\t<tr><td> 7  </td><td>  31</td></tr>\n",
       "\t<tr><td> 8  </td><td>  51</td></tr>\n",
       "\t<tr><td> 9  </td><td>  68</td></tr>\n",
       "\t<tr><td>10  </td><td> 104</td></tr>\n",
       "\t<tr><td>11  </td><td> 125</td></tr>\n",
       "\t<tr><td>12  </td><td> 177</td></tr>\n",
       "\t<tr><td>13  </td><td> 238</td></tr>\n",
       "\t<tr><td>14  </td><td> 287</td></tr>\n",
       "\t<tr><td>15  </td><td> 355</td></tr>\n",
       "\t<tr><td>16  </td><td> 425</td></tr>\n",
       "\t<tr><td>17  </td><td> 536</td></tr>\n",
       "\t<tr><td>18  </td><td> 634</td></tr>\n",
       "\t<tr><td>19  </td><td> 749</td></tr>\n",
       "\t<tr><td>20  </td><td> 901</td></tr>\n",
       "\t<tr><td>21  </td><td>1051</td></tr>\n",
       "\t<tr><td>22  </td><td>1221</td></tr>\n",
       "\t<tr><td>23  </td><td>1389</td></tr>\n",
       "\t<tr><td>24  </td><td>1638</td></tr>\n",
       "\t<tr><td>25  </td><td>1862</td></tr>\n",
       "\t<tr><td>26  </td><td>2055</td></tr>\n",
       "\t<tr><td>27  </td><td>2311</td></tr>\n",
       "\t<tr><td>28  </td><td>2554</td></tr>\n",
       "\t<tr><td>29  </td><td>2946</td></tr>\n",
       "</tbody>\n",
       "</table>\n"
      ],
      "text/latex": [
       "\\begin{tabular}{r|ll}\n",
       " Day & Reported\\\\\n",
       "\\hline\n",
       "\t  0   &    1\\\\\n",
       "\t  1   &    1\\\\\n",
       "\t  2   &    5\\\\\n",
       "\t  3   &    6\\\\\n",
       "\t  4   &   11\\\\\n",
       "\t  5   &   17\\\\\n",
       "\t  6   &   22\\\\\n",
       "\t  7   &   31\\\\\n",
       "\t  8   &   51\\\\\n",
       "\t  9   &   68\\\\\n",
       "\t 10   &  104\\\\\n",
       "\t 11   &  125\\\\\n",
       "\t 12   &  177\\\\\n",
       "\t 13   &  238\\\\\n",
       "\t 14   &  287\\\\\n",
       "\t 15   &  355\\\\\n",
       "\t 16   &  425\\\\\n",
       "\t 17   &  536\\\\\n",
       "\t 18   &  634\\\\\n",
       "\t 19   &  749\\\\\n",
       "\t 20   &  901\\\\\n",
       "\t 21   & 1051\\\\\n",
       "\t 22   & 1221\\\\\n",
       "\t 23   & 1389\\\\\n",
       "\t 24   & 1638\\\\\n",
       "\t 25   & 1862\\\\\n",
       "\t 26   & 2055\\\\\n",
       "\t 27   & 2311\\\\\n",
       "\t 28   & 2554\\\\\n",
       "\t 29   & 2946\\\\\n",
       "\\end{tabular}\n"
      ],
      "text/markdown": [
       "\n",
       "| Day | Reported |\n",
       "|---|---|\n",
       "|  0   |    1 |\n",
       "|  1   |    1 |\n",
       "|  2   |    5 |\n",
       "|  3   |    6 |\n",
       "|  4   |   11 |\n",
       "|  5   |   17 |\n",
       "|  6   |   22 |\n",
       "|  7   |   31 |\n",
       "|  8   |   51 |\n",
       "|  9   |   68 |\n",
       "| 10   |  104 |\n",
       "| 11   |  125 |\n",
       "| 12   |  177 |\n",
       "| 13   |  238 |\n",
       "| 14   |  287 |\n",
       "| 15   |  355 |\n",
       "| 16   |  425 |\n",
       "| 17   |  536 |\n",
       "| 18   |  634 |\n",
       "| 19   |  749 |\n",
       "| 20   |  901 |\n",
       "| 21   | 1051 |\n",
       "| 22   | 1221 |\n",
       "| 23   | 1389 |\n",
       "| 24   | 1638 |\n",
       "| 25   | 1862 |\n",
       "| 26   | 2055 |\n",
       "| 27   | 2311 |\n",
       "| 28   | 2554 |\n",
       "| 29   | 2946 |\n",
       "\n"
      ],
      "text/plain": [
       "   Day Reported\n",
       "1   0     1    \n",
       "2   1     1    \n",
       "3   2     5    \n",
       "4   3     6    \n",
       "5   4    11    \n",
       "6   5    17    \n",
       "7   6    22    \n",
       "8   7    31    \n",
       "9   8    51    \n",
       "10  9    68    \n",
       "11 10   104    \n",
       "12 11   125    \n",
       "13 12   177    \n",
       "14 13   238    \n",
       "15 14   287    \n",
       "16 15   355    \n",
       "17 16   425    \n",
       "18 17   536    \n",
       "19 18   634    \n",
       "20 19   749    \n",
       "21 20   901    \n",
       "22 21  1051    \n",
       "23 22  1221    \n",
       "24 23  1389    \n",
       "25 24  1638    \n",
       "26 25  1862    \n",
       "27 26  2055    \n",
       "28 27  2311    \n",
       "29 28  2554    \n",
       "30 29  2946    "
      ]
     },
     "metadata": {},
     "output_type": "display_data"
    }
   ],
   "source": [
    "covidInPoland = covidInPoland %>% filter(!is.na(raportowane))\n",
    "covidInPoland = covidInPoland[c(2,3)]\n",
    "names(covidInPoland)[1] <- \"Day\"\n",
    "names(covidInPoland)[2] <- \"Reported\"\n",
    "covidInPoland"
   ]
  },
  {
   "cell_type": "markdown",
   "metadata": {},
   "source": [
    "### Aproksymacja na podstawie pierwszych 14 dni"
   ]
  },
  {
   "cell_type": "code",
   "execution_count": 141,
   "metadata": {},
   "outputs": [],
   "source": [
    "covidInPoland_f14 = head(covidInPoland,14)"
   ]
  },
  {
   "cell_type": "code",
   "execution_count": 143,
   "metadata": {
    "scrolled": false
   },
   "outputs": [
    {
     "data": {
      "text/html": [
       "<table>\n",
       "<thead><tr><th scope=col>Day</th><th scope=col>Reported</th></tr></thead>\n",
       "<tbody>\n",
       "\t<tr><td> 0 </td><td>  1</td></tr>\n",
       "\t<tr><td> 1 </td><td>  1</td></tr>\n",
       "\t<tr><td> 2 </td><td>  5</td></tr>\n",
       "\t<tr><td> 3 </td><td>  6</td></tr>\n",
       "\t<tr><td> 4 </td><td> 11</td></tr>\n",
       "\t<tr><td> 5 </td><td> 17</td></tr>\n",
       "\t<tr><td> 6 </td><td> 22</td></tr>\n",
       "\t<tr><td> 7 </td><td> 31</td></tr>\n",
       "\t<tr><td> 8 </td><td> 51</td></tr>\n",
       "\t<tr><td> 9 </td><td> 68</td></tr>\n",
       "\t<tr><td>10 </td><td>104</td></tr>\n",
       "\t<tr><td>11 </td><td>125</td></tr>\n",
       "\t<tr><td>12 </td><td>177</td></tr>\n",
       "\t<tr><td>13 </td><td>238</td></tr>\n",
       "</tbody>\n",
       "</table>\n"
      ],
      "text/latex": [
       "\\begin{tabular}{r|ll}\n",
       " Day & Reported\\\\\n",
       "\\hline\n",
       "\t  0  &   1\\\\\n",
       "\t  1  &   1\\\\\n",
       "\t  2  &   5\\\\\n",
       "\t  3  &   6\\\\\n",
       "\t  4  &  11\\\\\n",
       "\t  5  &  17\\\\\n",
       "\t  6  &  22\\\\\n",
       "\t  7  &  31\\\\\n",
       "\t  8  &  51\\\\\n",
       "\t  9  &  68\\\\\n",
       "\t 10  & 104\\\\\n",
       "\t 11  & 125\\\\\n",
       "\t 12  & 177\\\\\n",
       "\t 13  & 238\\\\\n",
       "\\end{tabular}\n"
      ],
      "text/markdown": [
       "\n",
       "| Day | Reported |\n",
       "|---|---|\n",
       "|  0  |   1 |\n",
       "|  1  |   1 |\n",
       "|  2  |   5 |\n",
       "|  3  |   6 |\n",
       "|  4  |  11 |\n",
       "|  5  |  17 |\n",
       "|  6  |  22 |\n",
       "|  7  |  31 |\n",
       "|  8  |  51 |\n",
       "|  9  |  68 |\n",
       "| 10  | 104 |\n",
       "| 11  | 125 |\n",
       "| 12  | 177 |\n",
       "| 13  | 238 |\n",
       "\n"
      ],
      "text/plain": [
       "   Day Reported\n",
       "1   0    1     \n",
       "2   1    1     \n",
       "3   2    5     \n",
       "4   3    6     \n",
       "5   4   11     \n",
       "6   5   17     \n",
       "7   6   22     \n",
       "8   7   31     \n",
       "9   8   51     \n",
       "10  9   68     \n",
       "11 10  104     \n",
       "12 11  125     \n",
       "13 12  177     \n",
       "14 13  238     "
      ]
     },
     "metadata": {},
     "output_type": "display_data"
    }
   ],
   "source": [
    "covidInPoland_f14"
   ]
  },
  {
   "cell_type": "code",
   "execution_count": 145,
   "metadata": {},
   "outputs": [],
   "source": [
    "covidInPoland_f14_log = lm(log(Reported) ~ Day, \n",
    "                           data=covidInPoland_f14)"
   ]
  },
  {
   "cell_type": "code",
   "execution_count": 146,
   "metadata": {},
   "outputs": [],
   "source": [
    "generatedTime = data.frame(Day = seq(0, 13, by = 0.01))\n",
    "generatedTime$Reported = exp(predict(covidInPoland_f14_log, generatedTime))"
   ]
  },
  {
   "cell_type": "code",
   "execution_count": 147,
   "metadata": {},
   "outputs": [
    {
     "data": {
      "image/png": "[encoded data removed]",
      "text/plain": [
       "plot without title"
      ]
     },
     "metadata": {},
     "output_type": "display_data"
    }
   ],
   "source": [
    "ggplot(covidInPoland_f14, aes(Day,Reported)) + \n",
    "    geom_point() + \n",
    "    geom_line(data=generatedTime, aes(Day,Reported)) + \n",
    "    ggtitle(\"Wykres aproksymacji ilości zarażonych krzywą wykładniczą z pierwszych 14 dni\") +\n",
    "    xlab(\"Numer dnia od pierwszego zarażonego\") + \n",
    "    ylab(\"Ilość zarażonych\")"
   ]
  },
  {
   "cell_type": "markdown",
   "metadata": {},
   "source": [
    "### Aproksymacja na podstawie ostatnich 14 dni"
   ]
  },
  {
   "cell_type": "code",
   "execution_count": 148,
   "metadata": {},
   "outputs": [],
   "source": [
    "covidInPoland_e14 = tail(covidInPoland,14)"
   ]
  },
  {
   "cell_type": "code",
   "execution_count": 150,
   "metadata": {
    "scrolled": false
   },
   "outputs": [
    {
     "data": {
      "text/html": [
       "<table>\n",
       "<thead><tr><th scope=col>Day</th><th scope=col>Reported</th></tr></thead>\n",
       "<tbody>\n",
       "\t<tr><td>16  </td><td> 425</td></tr>\n",
       "\t<tr><td>17  </td><td> 536</td></tr>\n",
       "\t<tr><td>18  </td><td> 634</td></tr>\n",
       "\t<tr><td>19  </td><td> 749</td></tr>\n",
       "\t<tr><td>20  </td><td> 901</td></tr>\n",
       "\t<tr><td>21  </td><td>1051</td></tr>\n",
       "\t<tr><td>22  </td><td>1221</td></tr>\n",
       "\t<tr><td>23  </td><td>1389</td></tr>\n",
       "\t<tr><td>24  </td><td>1638</td></tr>\n",
       "\t<tr><td>25  </td><td>1862</td></tr>\n",
       "\t<tr><td>26  </td><td>2055</td></tr>\n",
       "\t<tr><td>27  </td><td>2311</td></tr>\n",
       "\t<tr><td>28  </td><td>2554</td></tr>\n",
       "\t<tr><td>29  </td><td>2946</td></tr>\n",
       "</tbody>\n",
       "</table>\n"
      ],
      "text/latex": [
       "\\begin{tabular}{r|ll}\n",
       " Day & Reported\\\\\n",
       "\\hline\n",
       "\t 16   &  425\\\\\n",
       "\t 17   &  536\\\\\n",
       "\t 18   &  634\\\\\n",
       "\t 19   &  749\\\\\n",
       "\t 20   &  901\\\\\n",
       "\t 21   & 1051\\\\\n",
       "\t 22   & 1221\\\\\n",
       "\t 23   & 1389\\\\\n",
       "\t 24   & 1638\\\\\n",
       "\t 25   & 1862\\\\\n",
       "\t 26   & 2055\\\\\n",
       "\t 27   & 2311\\\\\n",
       "\t 28   & 2554\\\\\n",
       "\t 29   & 2946\\\\\n",
       "\\end{tabular}\n"
      ],
      "text/markdown": [
       "\n",
       "| Day | Reported |\n",
       "|---|---|\n",
       "| 16   |  425 |\n",
       "| 17   |  536 |\n",
       "| 18   |  634 |\n",
       "| 19   |  749 |\n",
       "| 20   |  901 |\n",
       "| 21   | 1051 |\n",
       "| 22   | 1221 |\n",
       "| 23   | 1389 |\n",
       "| 24   | 1638 |\n",
       "| 25   | 1862 |\n",
       "| 26   | 2055 |\n",
       "| 27   | 2311 |\n",
       "| 28   | 2554 |\n",
       "| 29   | 2946 |\n",
       "\n"
      ],
      "text/plain": [
       "   Day Reported\n",
       "1  16   425    \n",
       "2  17   536    \n",
       "3  18   634    \n",
       "4  19   749    \n",
       "5  20   901    \n",
       "6  21  1051    \n",
       "7  22  1221    \n",
       "8  23  1389    \n",
       "9  24  1638    \n",
       "10 25  1862    \n",
       "11 26  2055    \n",
       "12 27  2311    \n",
       "13 28  2554    \n",
       "14 29  2946    "
      ]
     },
     "metadata": {},
     "output_type": "display_data"
    }
   ],
   "source": [
    "covidInPoland_e14"
   ]
  },
  {
   "cell_type": "code",
   "execution_count": 151,
   "metadata": {},
   "outputs": [],
   "source": [
    "covidInPoland_e14_log = lm(log(Reported) ~ Day, \n",
    "                           data=covidInPoland_l14)"
   ]
  },
  {
   "cell_type": "code",
   "execution_count": 152,
   "metadata": {},
   "outputs": [],
   "source": [
    "generatedTime2 = data.frame(Day = seq(0, first(covidInPoland_e14)[1]+13 + 10, by = 0.01))\n",
    "generatedTime2$Reported = exp(predict(covidInPoland_e14_log, generatedTime2))"
   ]
  },
  {
   "cell_type": "code",
   "execution_count": 153,
   "metadata": {
    "scrolled": false
   },
   "outputs": [
    {
     "data": {
      "image/png": "[encoded data removed]",
      "text/plain": [
       "plot without title"
      ]
     },
     "metadata": {},
     "output_type": "display_data"
    }
   ],
   "source": [
    "ggplot(covidInPoland_e14, aes(Day,Reported)) + \n",
    "    geom_point() + \n",
    "    geom_line(data=generatedTime2, aes(Day,Reported)) + \n",
    "    ggtitle(\"Wykres aproksymacji ilości zarażonych krzywą wykładniczą z ostatnich 14 dni\") +\n",
    "    xlab(\"Numer dnia od pierwszego zarażonego\") + \n",
    "    ylab(\"Ilość zarażonych\")"
   ]
  },
  {
   "cell_type": "markdown",
   "metadata": {},
   "source": [
    "Porównując dwa powyższe wykresy możemy dojść do wniosku, że dane z pierwszych 14 dni szybciej zaczynają odstawać od krzywej wykładniczej niż dane z ostatnich 14 dni. Aby jednak lepiej aproksymować skalę pandemii w Polsce posłużę się danymi z całego okresu trwania pandemii w Polsce."
   ]
  },
  {
   "cell_type": "markdown",
   "metadata": {},
   "source": [
    "### Aproksymacja na podstawie całego okresu trwania pandemii w Polsce"
   ]
  },
  {
   "cell_type": "code",
   "execution_count": 154,
   "metadata": {},
   "outputs": [],
   "source": [
    "covidInPoland_log = lm(log(Reported) ~ Day, \n",
    "                        data=covidInPoland)"
   ]
  },
  {
   "cell_type": "code",
   "execution_count": 155,
   "metadata": {},
   "outputs": [],
   "source": [
    "generatedTime3 = data.frame(Day = seq(0, first(tail(covidInPoland[1],1)), by = 0.01))\n",
    "generatedTime3$Reported = exp(predict(covidInPoland_log, generatedTime3))"
   ]
  },
  {
   "cell_type": "code",
   "execution_count": 156,
   "metadata": {},
   "outputs": [
    {
     "data": {
      "image/png": "[encoded data removed]",
      "text/plain": [
       "plot without title"
      ]
     },
     "metadata": {},
     "output_type": "display_data"
    }
   ],
   "source": [
    "ggplot(covidInPoland, aes(Day,Reported)) + \n",
    "    geom_point() + \n",
    "    geom_line(data=generatedTime3, aes(Day,Reported)) + \n",
    "    ggtitle(\"Wykres aproksymacji ilości zarażonych krzywą wykładniczą\") +\n",
    "    xlab(\"Numer dnia od pierwszego zarażonego\") + \n",
    "    ylab(\"Ilość zarażonych\")"
   ]
  },
  {
   "cell_type": "markdown",
   "metadata": {},
   "source": [
    "Możemy zauważyć, że ilość zaraportowanych chorych odbiega znacznie od wyrysowanej krzywej wykładniczej. Można wnioskować, że lepszą aproksymację można uzyskać korzystając z wielomianów."
   ]
  }
 ],
 "metadata": {
  "kernelspec": {
   "display_name": "R",
   "language": "R",
   "name": "ir"
  },
  "language_info": {
   "codemirror_mode": "r",
   "file_extension": ".r",
   "mimetype": "text/x-r-source",
   "name": "R",
   "pygments_lexer": "r",
   "version": "3.6.1"
  }
 },
 "nbformat": 4,
 "nbformat_minor": 4
}
