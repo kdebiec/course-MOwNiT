{
 "cells": [
  {
   "cell_type": "markdown",
   "metadata": {},
   "source": [
    "# Laboratorium 5 - Całkowanie"
   ]
  },
  {
   "cell_type": "markdown",
   "metadata": {},
   "source": [
    "Konrad Dębiec"
   ]
  },
  {
   "cell_type": "markdown",
   "metadata": {},
   "source": [
    "## Zadanie 1"
   ]
  },
  {
   "cell_type": "markdown",
   "metadata": {},
   "source": [
    "### Wielomiany Legendre'a"
   ]
  },
  {
   "cell_type": "code",
   "execution_count": 145,
   "metadata": {
    "scrolled": true
   },
   "outputs": [],
   "source": [
    "using Polynomials"
   ]
  },
  {
   "cell_type": "code",
   "execution_count": 146,
   "metadata": {
    "scrolled": true
   },
   "outputs": [
    {
     "data": {
      "text/plain": [
       "WielomianLegendre (generic function with 1 method)"
      ]
     },
     "execution_count": 146,
     "metadata": {},
     "output_type": "execute_result"
    }
   ],
   "source": [
    "function WielomianLegendre(stopien)\n",
    "    if stopien == 0\n",
    "        return Poly([1])\n",
    "    end\n",
    "    \n",
    "    x = Poly([0,1])\n",
    "    \n",
    "    if stopien == 1\n",
    "        return x\n",
    "    end\n",
    "    \n",
    "    return (2*(stopien-1)+1)/(stopien)*x*WielomianLegendre(stopien-1) - (stopien-1)/stopien*WielomianLegendre(stopien-2)\n",
    "end"
   ]
  },
  {
   "cell_type": "markdown",
   "metadata": {},
   "source": [
    "### Wykres w przedziale (-1,1)"
   ]
  },
  {
   "cell_type": "code",
   "execution_count": 147,
   "metadata": {},
   "outputs": [],
   "source": [
    "using Plots\n",
    "using QuadGK"
   ]
  },
  {
   "cell_type": "code",
   "execution_count": 148,
   "metadata": {},
   "outputs": [
    {
     "data": {
      "image/svg+xml": [
       "<?xml version=\"1.0\" encoding=\"utf-8\"?>\n",
       "<svg xmlns=\"http://www.w3.org/2000/svg\" xmlns:xlink=\"http://www.w3.org/1999/xlink\" width=\"600\" height=\"400\" viewBox=\"0 0 2400 1600\">\n",
       "<defs>\n",
       "  <clipPath id=\"clip5000\">\n",
       "    <rect x=\"0\" y=\"0\" width=\"2400\" height=\"1600\"/>\n",
       "  </clipPath>\n",
       "</defs>\n",
       "<path clip-path=\"url(#clip5000)\" d=\"\n",
       "M0 1600 L2400 1600 L2400 0 L0 0  Z\n",
       "  \" fill=\"#ffffff\" fill-rule=\"evenodd\" fill-opacity=\"1\"/>\n",
       "<defs>\n",
       "  <clipPath id=\"clip5001\">\n",
       "    <rect x=\"480\" y=\"0\" width=\"1681\" height=\"1600\"/>\n",
       "  </clipPath>\n",
       "</defs>\n",
       "<path clip-path=\"url(#clip5000)\" d=\"\n",
       "M243.864 1425.62 L2352.76 1425.62 L2352.76 121.675 L243.864 121.675  Z\n",
       "  \" fill=\"#ffffff\" fill-rule=\"evenodd\" fill-opacity=\"1\"/>\n",
       "<defs>\n",
       "  <clipPath id=\"clip5002\">\n",
       "    <rect x=\"243\" y=\"121\" width=\"2110\" height=\"1305\"/>\n",
       "  </clipPath>\n",
       "</defs>\n",
       "<polyline clip-path=\"url(#clip5002)\" style=\"stroke:#000000; stroke-width:2; stroke-opacity:0.1; fill:none\" points=\"\n",
       "  303.55,1425.62 303.55,121.675 \n",
       "  \"/>\n",
       "<polyline clip-path=\"url(#clip5002)\" style=\"stroke:#000000; stroke-width:2; stroke-opacity:0.1; fill:none\" points=\"\n",
       "  800.93,1425.62 800.93,121.675 \n",
       "  \"/>\n",
       "<polyline clip-path=\"url(#clip5002)\" style=\"stroke:#000000; stroke-width:2; stroke-opacity:0.1; fill:none\" points=\"\n",
       "  1298.31,1425.62 1298.31,121.675 \n",
       "  \"/>\n",
       "<polyline clip-path=\"url(#clip5002)\" style=\"stroke:#000000; stroke-width:2; stroke-opacity:0.1; fill:none\" points=\"\n",
       "  1795.69,1425.62 1795.69,121.675 \n",
       "  \"/>\n",
       "<polyline clip-path=\"url(#clip5002)\" style=\"stroke:#000000; stroke-width:2; stroke-opacity:0.1; fill:none\" points=\"\n",
       "  2293.07,1425.62 2293.07,121.675 \n",
       "  \"/>\n",
       "<polyline clip-path=\"url(#clip5002)\" style=\"stroke:#000000; stroke-width:2; stroke-opacity:0.1; fill:none\" points=\"\n",
       "  243.864,1224.7 2352.76,1224.7 \n",
       "  \"/>\n",
       "<polyline clip-path=\"url(#clip5002)\" style=\"stroke:#000000; stroke-width:2; stroke-opacity:0.1; fill:none\" points=\"\n",
       "  243.864,978.669 2352.76,978.669 \n",
       "  \"/>\n",
       "<polyline clip-path=\"url(#clip5002)\" style=\"stroke:#000000; stroke-width:2; stroke-opacity:0.1; fill:none\" points=\"\n",
       "  243.864,732.642 2352.76,732.642 \n",
       "  \"/>\n",
       "<polyline clip-path=\"url(#clip5002)\" style=\"stroke:#000000; stroke-width:2; stroke-opacity:0.1; fill:none\" points=\"\n",
       "  243.864,486.615 2352.76,486.615 \n",
       "  \"/>\n",
       "<polyline clip-path=\"url(#clip5002)\" style=\"stroke:#000000; stroke-width:2; stroke-opacity:0.1; fill:none\" points=\"\n",
       "  243.864,240.588 2352.76,240.588 \n",
       "  \"/>\n",
       "<polyline clip-path=\"url(#clip5000)\" style=\"stroke:#000000; stroke-width:4; stroke-opacity:1; fill:none\" points=\"\n",
       "  243.864,1425.62 2352.76,1425.62 \n",
       "  \"/>\n",
       "<polyline clip-path=\"url(#clip5000)\" style=\"stroke:#000000; stroke-width:4; stroke-opacity:1; fill:none\" points=\"\n",
       "  243.864,1425.62 243.864,121.675 \n",
       "  \"/>\n",
       "<polyline clip-path=\"url(#clip5000)\" style=\"stroke:#000000; stroke-width:4; stroke-opacity:1; fill:none\" points=\"\n",
       "  303.55,1425.62 303.55,1409.97 \n",
       "  \"/>\n",
       "<polyline clip-path=\"url(#clip5000)\" style=\"stroke:#000000; stroke-width:4; stroke-opacity:1; fill:none\" points=\"\n",
       "  800.93,1425.62 800.93,1409.97 \n",
       "  \"/>\n",
       "<polyline clip-path=\"url(#clip5000)\" style=\"stroke:#000000; stroke-width:4; stroke-opacity:1; fill:none\" points=\"\n",
       "  1298.31,1425.62 1298.31,1409.97 \n",
       "  \"/>\n",
       "<polyline clip-path=\"url(#clip5000)\" style=\"stroke:#000000; stroke-width:4; stroke-opacity:1; fill:none\" points=\"\n",
       "  1795.69,1425.62 1795.69,1409.97 \n",
       "  \"/>\n",
       "<polyline clip-path=\"url(#clip5000)\" style=\"stroke:#000000; stroke-width:4; stroke-opacity:1; fill:none\" points=\"\n",
       "  2293.07,1425.62 2293.07,1409.97 \n",
       "  \"/>\n",
       "<polyline clip-path=\"url(#clip5000)\" style=\"stroke:#000000; stroke-width:4; stroke-opacity:1; fill:none\" points=\"\n",
       "  243.864,1224.7 269.171,1224.7 \n",
       "  \"/>\n",
       "<polyline clip-path=\"url(#clip5000)\" style=\"stroke:#000000; stroke-width:4; stroke-opacity:1; fill:none\" points=\"\n",
       "  243.864,978.669 269.171,978.669 \n",
       "  \"/>\n",
       "<polyline clip-path=\"url(#clip5000)\" style=\"stroke:#000000; stroke-width:4; stroke-opacity:1; fill:none\" points=\"\n",
       "  243.864,732.642 269.171,732.642 \n",
       "  \"/>\n",
       "<polyline clip-path=\"url(#clip5000)\" style=\"stroke:#000000; stroke-width:4; stroke-opacity:1; fill:none\" points=\"\n",
       "  243.864,486.615 269.171,486.615 \n",
       "  \"/>\n",
       "<polyline clip-path=\"url(#clip5000)\" style=\"stroke:#000000; stroke-width:4; stroke-opacity:1; fill:none\" points=\"\n",
       "  243.864,240.588 269.171,240.588 \n",
       "  \"/>\n",
       "<g clip-path=\"url(#clip5000)\">\n",
       "<text style=\"fill:#000000; fill-opacity:1; font-family:Arial,Helvetica Neue,Helvetica,sans-serif; font-size:48px; text-anchor:middle;\" transform=\"rotate(0, 303.55, 1479.62)\" x=\"303.55\" y=\"1479.62\">-1.0</text>\n",
       "</g>\n",
       "<g clip-path=\"url(#clip5000)\">\n",
       "<text style=\"fill:#000000; fill-opacity:1; font-family:Arial,Helvetica Neue,Helvetica,sans-serif; font-size:48px; text-anchor:middle;\" transform=\"rotate(0, 800.93, 1479.62)\" x=\"800.93\" y=\"1479.62\">-0.5</text>\n",
       "</g>\n",
       "<g clip-path=\"url(#clip5000)\">\n",
       "<text style=\"fill:#000000; fill-opacity:1; font-family:Arial,Helvetica Neue,Helvetica,sans-serif; font-size:48px; text-anchor:middle;\" transform=\"rotate(0, 1298.31, 1479.62)\" x=\"1298.31\" y=\"1479.62\">0.0</text>\n",
       "</g>\n",
       "<g clip-path=\"url(#clip5000)\">\n",
       "<text style=\"fill:#000000; fill-opacity:1; font-family:Arial,Helvetica Neue,Helvetica,sans-serif; font-size:48px; text-anchor:middle;\" transform=\"rotate(0, 1795.69, 1479.62)\" x=\"1795.69\" y=\"1479.62\">0.5</text>\n",
       "</g>\n",
       "<g clip-path=\"url(#clip5000)\">\n",
       "<text style=\"fill:#000000; fill-opacity:1; font-family:Arial,Helvetica Neue,Helvetica,sans-serif; font-size:48px; text-anchor:middle;\" transform=\"rotate(0, 2293.07, 1479.62)\" x=\"2293.07\" y=\"1479.62\">1.0</text>\n",
       "</g>\n",
       "<g clip-path=\"url(#clip5000)\">\n",
       "<text style=\"fill:#000000; fill-opacity:1; font-family:Arial,Helvetica Neue,Helvetica,sans-serif; font-size:48px; text-anchor:end;\" transform=\"rotate(0, 219.864, 1242.2)\" x=\"219.864\" y=\"1242.2\">-0.3</text>\n",
       "</g>\n",
       "<g clip-path=\"url(#clip5000)\">\n",
       "<text style=\"fill:#000000; fill-opacity:1; font-family:Arial,Helvetica Neue,Helvetica,sans-serif; font-size:48px; text-anchor:end;\" transform=\"rotate(0, 219.864, 996.169)\" x=\"219.864\" y=\"996.169\">0.0</text>\n",
       "</g>\n",
       "<g clip-path=\"url(#clip5000)\">\n",
       "<text style=\"fill:#000000; fill-opacity:1; font-family:Arial,Helvetica Neue,Helvetica,sans-serif; font-size:48px; text-anchor:end;\" transform=\"rotate(0, 219.864, 750.142)\" x=\"219.864\" y=\"750.142\">0.3</text>\n",
       "</g>\n",
       "<g clip-path=\"url(#clip5000)\">\n",
       "<text style=\"fill:#000000; fill-opacity:1; font-family:Arial,Helvetica Neue,Helvetica,sans-serif; font-size:48px; text-anchor:end;\" transform=\"rotate(0, 219.864, 504.115)\" x=\"219.864\" y=\"504.115\">0.6</text>\n",
       "</g>\n",
       "<g clip-path=\"url(#clip5000)\">\n",
       "<text style=\"fill:#000000; fill-opacity:1; font-family:Arial,Helvetica Neue,Helvetica,sans-serif; font-size:48px; text-anchor:end;\" transform=\"rotate(0, 219.864, 258.088)\" x=\"219.864\" y=\"258.088\">0.9</text>\n",
       "</g>\n",
       "<g clip-path=\"url(#clip5000)\">\n",
       "<text style=\"fill:#000000; fill-opacity:1; font-family:Arial,Helvetica Neue,Helvetica,sans-serif; font-size:84px; text-anchor:middle;\" transform=\"rotate(0, 1298.31, 73.2)\" x=\"1298.31\" y=\"73.2\">Wielomian Legendre&apos;a stopnia 2</text>\n",
       "</g>\n",
       "<g clip-path=\"url(#clip5000)\">\n",
       "<text style=\"fill:#000000; fill-opacity:1; font-family:Arial,Helvetica Neue,Helvetica,sans-serif; font-size:66px; text-anchor:middle;\" transform=\"rotate(0, 1298.31, 1559.48)\" x=\"1298.31\" y=\"1559.48\">Os X</text>\n",
       "</g>\n",
       "<g clip-path=\"url(#clip5000)\">\n",
       "<text style=\"fill:#000000; fill-opacity:1; font-family:Arial,Helvetica Neue,Helvetica,sans-serif; font-size:66px; text-anchor:middle;\" transform=\"rotate(-90, 89.2861, 773.647)\" x=\"89.2861\" y=\"773.647\">Os Y</text>\n",
       "</g>\n",
       "<polyline clip-path=\"url(#clip5002)\" style=\"stroke:#009af9; stroke-width:4; stroke-opacity:1; fill:none\" points=\"\n",
       "  303.55,158.579 313.497,183.059 323.445,207.293 333.393,231.28 343.34,255.022 353.288,278.517 363.235,301.767 373.183,324.77 383.131,347.528 393.078,370.039 \n",
       "  403.026,392.305 412.973,414.324 422.921,436.098 432.869,457.625 442.816,478.906 452.764,499.942 462.711,520.731 472.659,541.274 482.607,561.572 492.554,581.623 \n",
       "  502.502,601.428 512.449,620.987 522.397,640.3 532.345,659.367 542.292,678.188 552.24,696.763 562.187,715.092 572.135,733.175 582.083,751.012 592.03,768.603 \n",
       "  601.978,785.948 611.925,803.047 621.873,819.9 631.821,836.507 641.768,852.868 651.716,868.982 661.663,884.851 671.611,900.474 681.559,915.851 691.506,930.981 \n",
       "  701.454,945.866 711.401,960.504 721.349,974.897 731.297,989.044 741.244,1002.94 751.192,1016.6 761.14,1030.01 771.087,1043.17 781.035,1056.09 790.982,1068.76 \n",
       "  800.93,1081.18 810.878,1093.36 820.825,1105.29 830.773,1116.98 840.72,1128.42 850.668,1139.61 860.616,1150.56 870.563,1161.26 880.511,1171.72 890.458,1181.93 \n",
       "  900.406,1191.89 910.354,1201.61 920.301,1211.08 930.249,1220.31 940.196,1229.29 950.144,1238.02 960.092,1246.51 970.039,1254.75 979.987,1262.75 989.934,1270.5 \n",
       "  999.882,1278 1009.83,1285.26 1019.78,1292.27 1029.72,1299.04 1039.67,1305.56 1049.62,1311.83 1059.57,1317.86 1069.52,1323.64 1079.46,1329.18 1089.41,1334.47 \n",
       "  1099.36,1339.51 1109.31,1344.31 1119.25,1348.86 1129.2,1353.16 1139.15,1357.22 1149.1,1361.04 1159.04,1364.6 1168.99,1367.93 1178.94,1371 1188.89,1373.83 \n",
       "  1198.83,1376.41 1208.78,1378.75 1218.73,1380.84 1228.68,1382.69 1238.62,1384.29 1248.57,1385.64 1258.52,1386.75 1268.47,1387.61 1278.41,1388.22 1288.36,1388.59 \n",
       "  1298.31,1388.71 1308.26,1388.59 1318.21,1388.22 1328.15,1387.61 1338.1,1386.75 1348.05,1385.64 1358,1384.29 1367.94,1382.69 1377.89,1380.84 1387.84,1378.75 \n",
       "  1397.79,1376.41 1407.73,1373.83 1417.68,1371 1427.63,1367.93 1437.58,1364.6 1447.52,1361.04 1457.47,1357.22 1467.42,1353.16 1477.37,1348.86 1487.31,1344.31 \n",
       "  1497.26,1339.51 1507.21,1334.47 1517.16,1329.18 1527.1,1323.64 1537.05,1317.86 1547,1311.83 1556.95,1305.56 1566.9,1299.04 1576.84,1292.27 1586.79,1285.26 \n",
       "  1596.74,1278 1606.69,1270.5 1616.63,1262.75 1626.58,1254.75 1636.53,1246.51 1646.48,1238.02 1656.42,1229.29 1666.37,1220.31 1676.32,1211.08 1686.27,1201.61 \n",
       "  1696.21,1191.89 1706.16,1181.93 1716.11,1171.72 1726.06,1161.26 1736,1150.56 1745.95,1139.61 1755.9,1128.42 1765.85,1116.98 1775.79,1105.29 1785.74,1093.36 \n",
       "  1795.69,1081.18 1805.64,1068.76 1815.59,1056.09 1825.53,1043.17 1835.48,1030.01 1845.43,1016.6 1855.38,1002.94 1865.32,989.044 1875.27,974.897 1885.22,960.504 \n",
       "  1895.17,945.866 1905.11,930.981 1915.06,915.851 1925.01,900.474 1934.96,884.851 1944.9,868.982 1954.85,852.868 1964.8,836.507 1974.75,819.9 1984.69,803.047 \n",
       "  1994.64,785.948 2004.59,768.603 2014.54,751.012 2024.49,733.175 2034.43,715.092 2044.38,696.763 2054.33,678.188 2064.28,659.367 2074.22,640.3 2084.17,620.987 \n",
       "  2094.12,601.428 2104.07,581.623 2114.01,561.572 2123.96,541.274 2133.91,520.731 2143.86,499.942 2153.8,478.906 2163.75,457.625 2173.7,436.098 2183.65,414.324 \n",
       "  2193.59,392.305 2203.54,370.039 2213.49,347.528 2223.44,324.77 2233.38,301.767 2243.33,278.517 2253.28,255.022 2263.23,231.28 2273.18,207.293 2283.12,183.059 \n",
       "  2293.07,158.579 \n",
       "  \"/>\n",
       "</svg>\n"
      ]
     },
     "execution_count": 148,
     "metadata": {},
     "output_type": "execute_result"
    }
   ],
   "source": [
    "xaxis = -1:0.01:1\n",
    "plot(xaxis, [WielomianLegendre(2)(x) for x in xaxis], title=\"Wielomian Legendre'a stopnia 2\", xaxis=\"Os X\", yaxis=\"Os Y\", label=\"\")"
   ]
  },
  {
   "cell_type": "code",
   "execution_count": 149,
   "metadata": {
    "scrolled": false
   },
   "outputs": [
    {
     "data": {
      "image/svg+xml": [
       "<?xml version=\"1.0\" encoding=\"utf-8\"?>\n",
       "<svg xmlns=\"http://www.w3.org/2000/svg\" xmlns:xlink=\"http://www.w3.org/1999/xlink\" width=\"600\" height=\"400\" viewBox=\"0 0 2400 1600\">\n",
       "<defs>\n",
       "  <clipPath id=\"clip5400\">\n",
       "    <rect x=\"0\" y=\"0\" width=\"2400\" height=\"1600\"/>\n",
       "  </clipPath>\n",
       "</defs>\n",
       "<path clip-path=\"url(#clip5400)\" d=\"\n",
       "M0 1600 L2400 1600 L2400 0 L0 0  Z\n",
       "  \" fill=\"#ffffff\" fill-rule=\"evenodd\" fill-opacity=\"1\"/>\n",
       "<defs>\n",
       "  <clipPath id=\"clip5401\">\n",
       "    <rect x=\"480\" y=\"0\" width=\"1681\" height=\"1600\"/>\n",
       "  </clipPath>\n",
       "</defs>\n",
       "<path clip-path=\"url(#clip5400)\" d=\"\n",
       "M243.864 1425.62 L2352.76 1425.62 L2352.76 121.675 L243.864 121.675  Z\n",
       "  \" fill=\"#ffffff\" fill-rule=\"evenodd\" fill-opacity=\"1\"/>\n",
       "<defs>\n",
       "  <clipPath id=\"clip5402\">\n",
       "    <rect x=\"243\" y=\"121\" width=\"2110\" height=\"1305\"/>\n",
       "  </clipPath>\n",
       "</defs>\n",
       "<polyline clip-path=\"url(#clip5402)\" style=\"stroke:#000000; stroke-width:2; stroke-opacity:0.1; fill:none\" points=\"\n",
       "  303.55,1425.62 303.55,121.675 \n",
       "  \"/>\n",
       "<polyline clip-path=\"url(#clip5402)\" style=\"stroke:#000000; stroke-width:2; stroke-opacity:0.1; fill:none\" points=\"\n",
       "  800.93,1425.62 800.93,121.675 \n",
       "  \"/>\n",
       "<polyline clip-path=\"url(#clip5402)\" style=\"stroke:#000000; stroke-width:2; stroke-opacity:0.1; fill:none\" points=\"\n",
       "  1298.31,1425.62 1298.31,121.675 \n",
       "  \"/>\n",
       "<polyline clip-path=\"url(#clip5402)\" style=\"stroke:#000000; stroke-width:2; stroke-opacity:0.1; fill:none\" points=\"\n",
       "  1795.69,1425.62 1795.69,121.675 \n",
       "  \"/>\n",
       "<polyline clip-path=\"url(#clip5402)\" style=\"stroke:#000000; stroke-width:2; stroke-opacity:0.1; fill:none\" points=\"\n",
       "  2293.07,1425.62 2293.07,121.675 \n",
       "  \"/>\n",
       "<polyline clip-path=\"url(#clip5402)\" style=\"stroke:#000000; stroke-width:2; stroke-opacity:0.1; fill:none\" points=\"\n",
       "  243.864,1388.71 2352.76,1388.71 \n",
       "  \"/>\n",
       "<polyline clip-path=\"url(#clip5402)\" style=\"stroke:#000000; stroke-width:2; stroke-opacity:0.1; fill:none\" points=\"\n",
       "  243.864,1081.18 2352.76,1081.18 \n",
       "  \"/>\n",
       "<polyline clip-path=\"url(#clip5402)\" style=\"stroke:#000000; stroke-width:2; stroke-opacity:0.1; fill:none\" points=\"\n",
       "  243.864,773.647 2352.76,773.647 \n",
       "  \"/>\n",
       "<polyline clip-path=\"url(#clip5402)\" style=\"stroke:#000000; stroke-width:2; stroke-opacity:0.1; fill:none\" points=\"\n",
       "  243.864,466.113 2352.76,466.113 \n",
       "  \"/>\n",
       "<polyline clip-path=\"url(#clip5402)\" style=\"stroke:#000000; stroke-width:2; stroke-opacity:0.1; fill:none\" points=\"\n",
       "  243.864,158.579 2352.76,158.579 \n",
       "  \"/>\n",
       "<polyline clip-path=\"url(#clip5400)\" style=\"stroke:#000000; stroke-width:4; stroke-opacity:1; fill:none\" points=\"\n",
       "  243.864,1425.62 2352.76,1425.62 \n",
       "  \"/>\n",
       "<polyline clip-path=\"url(#clip5400)\" style=\"stroke:#000000; stroke-width:4; stroke-opacity:1; fill:none\" points=\"\n",
       "  243.864,1425.62 243.864,121.675 \n",
       "  \"/>\n",
       "<polyline clip-path=\"url(#clip5400)\" style=\"stroke:#000000; stroke-width:4; stroke-opacity:1; fill:none\" points=\"\n",
       "  303.55,1425.62 303.55,1409.97 \n",
       "  \"/>\n",
       "<polyline clip-path=\"url(#clip5400)\" style=\"stroke:#000000; stroke-width:4; stroke-opacity:1; fill:none\" points=\"\n",
       "  800.93,1425.62 800.93,1409.97 \n",
       "  \"/>\n",
       "<polyline clip-path=\"url(#clip5400)\" style=\"stroke:#000000; stroke-width:4; stroke-opacity:1; fill:none\" points=\"\n",
       "  1298.31,1425.62 1298.31,1409.97 \n",
       "  \"/>\n",
       "<polyline clip-path=\"url(#clip5400)\" style=\"stroke:#000000; stroke-width:4; stroke-opacity:1; fill:none\" points=\"\n",
       "  1795.69,1425.62 1795.69,1409.97 \n",
       "  \"/>\n",
       "<polyline clip-path=\"url(#clip5400)\" style=\"stroke:#000000; stroke-width:4; stroke-opacity:1; fill:none\" points=\"\n",
       "  2293.07,1425.62 2293.07,1409.97 \n",
       "  \"/>\n",
       "<polyline clip-path=\"url(#clip5400)\" style=\"stroke:#000000; stroke-width:4; stroke-opacity:1; fill:none\" points=\"\n",
       "  243.864,1388.71 269.171,1388.71 \n",
       "  \"/>\n",
       "<polyline clip-path=\"url(#clip5400)\" style=\"stroke:#000000; stroke-width:4; stroke-opacity:1; fill:none\" points=\"\n",
       "  243.864,1081.18 269.171,1081.18 \n",
       "  \"/>\n",
       "<polyline clip-path=\"url(#clip5400)\" style=\"stroke:#000000; stroke-width:4; stroke-opacity:1; fill:none\" points=\"\n",
       "  243.864,773.647 269.171,773.647 \n",
       "  \"/>\n",
       "<polyline clip-path=\"url(#clip5400)\" style=\"stroke:#000000; stroke-width:4; stroke-opacity:1; fill:none\" points=\"\n",
       "  243.864,466.113 269.171,466.113 \n",
       "  \"/>\n",
       "<polyline clip-path=\"url(#clip5400)\" style=\"stroke:#000000; stroke-width:4; stroke-opacity:1; fill:none\" points=\"\n",
       "  243.864,158.579 269.171,158.579 \n",
       "  \"/>\n",
       "<g clip-path=\"url(#clip5400)\">\n",
       "<text style=\"fill:#000000; fill-opacity:1; font-family:Arial,Helvetica Neue,Helvetica,sans-serif; font-size:48px; text-anchor:middle;\" transform=\"rotate(0, 303.55, 1479.62)\" x=\"303.55\" y=\"1479.62\">-1.0</text>\n",
       "</g>\n",
       "<g clip-path=\"url(#clip5400)\">\n",
       "<text style=\"fill:#000000; fill-opacity:1; font-family:Arial,Helvetica Neue,Helvetica,sans-serif; font-size:48px; text-anchor:middle;\" transform=\"rotate(0, 800.93, 1479.62)\" x=\"800.93\" y=\"1479.62\">-0.5</text>\n",
       "</g>\n",
       "<g clip-path=\"url(#clip5400)\">\n",
       "<text style=\"fill:#000000; fill-opacity:1; font-family:Arial,Helvetica Neue,Helvetica,sans-serif; font-size:48px; text-anchor:middle;\" transform=\"rotate(0, 1298.31, 1479.62)\" x=\"1298.31\" y=\"1479.62\">0.0</text>\n",
       "</g>\n",
       "<g clip-path=\"url(#clip5400)\">\n",
       "<text style=\"fill:#000000; fill-opacity:1; font-family:Arial,Helvetica Neue,Helvetica,sans-serif; font-size:48px; text-anchor:middle;\" transform=\"rotate(0, 1795.69, 1479.62)\" x=\"1795.69\" y=\"1479.62\">0.5</text>\n",
       "</g>\n",
       "<g clip-path=\"url(#clip5400)\">\n",
       "<text style=\"fill:#000000; fill-opacity:1; font-family:Arial,Helvetica Neue,Helvetica,sans-serif; font-size:48px; text-anchor:middle;\" transform=\"rotate(0, 2293.07, 1479.62)\" x=\"2293.07\" y=\"1479.62\">1.0</text>\n",
       "</g>\n",
       "<g clip-path=\"url(#clip5400)\">\n",
       "<text style=\"fill:#000000; fill-opacity:1; font-family:Arial,Helvetica Neue,Helvetica,sans-serif; font-size:48px; text-anchor:end;\" transform=\"rotate(0, 219.864, 1406.21)\" x=\"219.864\" y=\"1406.21\">-1.0</text>\n",
       "</g>\n",
       "<g clip-path=\"url(#clip5400)\">\n",
       "<text style=\"fill:#000000; fill-opacity:1; font-family:Arial,Helvetica Neue,Helvetica,sans-serif; font-size:48px; text-anchor:end;\" transform=\"rotate(0, 219.864, 1098.68)\" x=\"219.864\" y=\"1098.68\">-0.5</text>\n",
       "</g>\n",
       "<g clip-path=\"url(#clip5400)\">\n",
       "<text style=\"fill:#000000; fill-opacity:1; font-family:Arial,Helvetica Neue,Helvetica,sans-serif; font-size:48px; text-anchor:end;\" transform=\"rotate(0, 219.864, 791.147)\" x=\"219.864\" y=\"791.147\">0.0</text>\n",
       "</g>\n",
       "<g clip-path=\"url(#clip5400)\">\n",
       "<text style=\"fill:#000000; fill-opacity:1; font-family:Arial,Helvetica Neue,Helvetica,sans-serif; font-size:48px; text-anchor:end;\" transform=\"rotate(0, 219.864, 483.613)\" x=\"219.864\" y=\"483.613\">0.5</text>\n",
       "</g>\n",
       "<g clip-path=\"url(#clip5400)\">\n",
       "<text style=\"fill:#000000; fill-opacity:1; font-family:Arial,Helvetica Neue,Helvetica,sans-serif; font-size:48px; text-anchor:end;\" transform=\"rotate(0, 219.864, 176.079)\" x=\"219.864\" y=\"176.079\">1.0</text>\n",
       "</g>\n",
       "<g clip-path=\"url(#clip5400)\">\n",
       "<text style=\"fill:#000000; fill-opacity:1; font-family:Arial,Helvetica Neue,Helvetica,sans-serif; font-size:84px; text-anchor:middle;\" transform=\"rotate(0, 1298.31, 73.2)\" x=\"1298.31\" y=\"73.2\">Wielomian Legendre&apos;a stopnia 3</text>\n",
       "</g>\n",
       "<g clip-path=\"url(#clip5400)\">\n",
       "<text style=\"fill:#000000; fill-opacity:1; font-family:Arial,Helvetica Neue,Helvetica,sans-serif; font-size:66px; text-anchor:middle;\" transform=\"rotate(0, 1298.31, 1559.48)\" x=\"1298.31\" y=\"1559.48\">Os X</text>\n",
       "</g>\n",
       "<g clip-path=\"url(#clip5400)\">\n",
       "<text style=\"fill:#000000; fill-opacity:1; font-family:Arial,Helvetica Neue,Helvetica,sans-serif; font-size:66px; text-anchor:middle;\" transform=\"rotate(-90, 89.2861, 773.647)\" x=\"89.2861\" y=\"773.647\">Os Y</text>\n",
       "</g>\n",
       "<polyline clip-path=\"url(#clip5402)\" style=\"stroke:#009af9; stroke-width:4; stroke-opacity:1; fill:none\" points=\"\n",
       "  303.55,1388.71 313.497,1352.27 323.445,1316.74 333.393,1282.11 343.34,1248.38 353.288,1215.53 363.235,1183.56 373.183,1152.46 383.131,1122.22 393.078,1092.82 \n",
       "  403.026,1064.27 412.973,1036.54 422.921,1009.64 432.869,983.543 442.816,958.253 452.764,933.757 462.711,910.044 472.659,887.107 482.607,864.935 492.554,843.52 \n",
       "  502.502,822.852 512.449,802.923 522.397,783.722 532.345,765.24 542.292,747.47 552.24,730.4 562.187,714.022 572.135,698.327 582.083,683.306 592.03,668.949 \n",
       "  601.978,655.246 611.925,642.19 621.873,629.77 631.821,617.978 641.768,606.804 651.716,596.238 661.663,586.273 671.611,576.897 681.559,568.104 691.506,559.882 \n",
       "  701.454,552.223 711.401,545.117 721.349,538.556 731.297,532.53 741.244,527.029 751.192,522.046 761.14,517.57 771.087,513.592 781.035,510.103 790.982,507.093 \n",
       "  800.93,504.555 810.878,502.477 820.825,500.852 830.773,499.67 840.72,498.921 850.668,498.596 860.616,498.687 870.563,499.184 880.511,500.077 890.458,501.358 \n",
       "  900.406,503.017 910.354,505.045 920.301,507.433 930.249,510.172 940.196,513.252 950.144,516.664 960.092,520.399 970.039,524.448 979.987,528.801 989.934,533.449 \n",
       "  999.882,538.383 1009.83,543.595 1019.78,549.073 1029.72,554.81 1039.67,560.797 1049.62,567.023 1059.57,573.479 1069.52,580.157 1079.46,587.048 1089.41,594.141 \n",
       "  1099.36,601.428 1109.31,608.899 1119.25,616.546 1129.2,624.359 1139.15,632.329 1149.1,640.446 1159.04,648.702 1168.99,657.087 1178.94,665.592 1188.89,674.207 \n",
       "  1198.83,682.924 1208.78,691.734 1218.73,700.626 1228.68,709.592 1238.62,718.623 1248.57,727.709 1258.52,736.841 1268.47,746.01 1278.41,755.207 1288.36,764.422 \n",
       "  1298.31,773.647 1308.26,782.871 1318.21,792.087 1328.15,801.283 1338.1,810.453 1348.05,819.585 1358,828.671 1367.94,837.702 1377.89,846.668 1387.84,855.56 \n",
       "  1397.79,864.369 1407.73,873.086 1417.68,881.702 1427.63,890.207 1437.58,898.592 1447.52,906.847 1457.47,914.965 1467.42,922.935 1477.37,930.747 1487.31,938.394 \n",
       "  1497.26,945.866 1507.21,953.153 1517.16,960.246 1527.1,967.136 1537.05,973.815 1547,980.271 1556.95,986.497 1566.9,992.483 1576.84,998.22 1586.79,1003.7 \n",
       "  1596.74,1008.91 1606.69,1013.84 1616.63,1018.49 1626.58,1022.85 1636.53,1026.89 1646.48,1030.63 1656.42,1034.04 1666.37,1037.12 1676.32,1039.86 1686.27,1042.25 \n",
       "  1696.21,1044.28 1706.16,1045.94 1716.11,1047.22 1726.06,1048.11 1736,1048.61 1745.95,1048.7 1755.9,1048.37 1765.85,1047.62 1775.79,1046.44 1785.74,1044.82 \n",
       "  1795.69,1042.74 1805.64,1040.2 1815.59,1037.19 1825.53,1033.7 1835.48,1029.72 1845.43,1025.25 1855.38,1020.26 1865.32,1014.76 1875.27,1008.74 1885.22,1002.18 \n",
       "  1895.17,995.071 1905.11,987.412 1915.06,979.19 1925.01,970.396 1934.96,961.021 1944.9,951.055 1954.85,940.49 1964.8,929.316 1974.75,917.524 1984.69,905.104 \n",
       "  1994.64,892.047 2004.59,878.345 2014.54,863.988 2024.49,848.967 2034.43,833.272 2044.38,816.894 2054.33,799.824 2064.28,782.053 2074.22,763.572 2084.17,744.371 \n",
       "  2094.12,724.441 2104.07,703.774 2114.01,682.359 2123.96,660.187 2133.91,637.249 2143.86,613.537 2153.8,589.04 2163.75,563.75 2173.7,537.658 2183.65,510.753 \n",
       "  2193.59,483.027 2203.54,454.471 2213.49,425.076 2223.44,394.831 2233.38,363.729 2243.33,331.759 2253.28,298.913 2263.23,265.181 2273.18,230.554 2283.12,195.023 \n",
       "  2293.07,158.579 \n",
       "  \"/>\n",
       "</svg>\n"
      ]
     },
     "execution_count": 149,
     "metadata": {},
     "output_type": "execute_result"
    }
   ],
   "source": [
    "plot(xaxis, [WielomianLegendre(3)(x) for x in xaxis], title=\"Wielomian Legendre'a stopnia 3\", xaxis=\"Os X\", yaxis=\"Os Y\", label=\"\")"
   ]
  },
  {
   "cell_type": "code",
   "execution_count": 150,
   "metadata": {
    "scrolled": false
   },
   "outputs": [
    {
     "data": {
      "image/svg+xml": [
       "<?xml version=\"1.0\" encoding=\"utf-8\"?>\n",
       "<svg xmlns=\"http://www.w3.org/2000/svg\" xmlns:xlink=\"http://www.w3.org/1999/xlink\" width=\"600\" height=\"400\" viewBox=\"0 0 2400 1600\">\n",
       "<defs>\n",
       "  <clipPath id=\"clip5800\">\n",
       "    <rect x=\"0\" y=\"0\" width=\"2400\" height=\"1600\"/>\n",
       "  </clipPath>\n",
       "</defs>\n",
       "<path clip-path=\"url(#clip5800)\" d=\"\n",
       "M0 1600 L2400 1600 L2400 0 L0 0  Z\n",
       "  \" fill=\"#ffffff\" fill-rule=\"evenodd\" fill-opacity=\"1\"/>\n",
       "<defs>\n",
       "  <clipPath id=\"clip5801\">\n",
       "    <rect x=\"480\" y=\"0\" width=\"1681\" height=\"1600\"/>\n",
       "  </clipPath>\n",
       "</defs>\n",
       "<path clip-path=\"url(#clip5800)\" d=\"\n",
       "M243.864 1425.62 L2352.76 1425.62 L2352.76 121.675 L243.864 121.675  Z\n",
       "  \" fill=\"#ffffff\" fill-rule=\"evenodd\" fill-opacity=\"1\"/>\n",
       "<defs>\n",
       "  <clipPath id=\"clip5802\">\n",
       "    <rect x=\"243\" y=\"121\" width=\"2110\" height=\"1305\"/>\n",
       "  </clipPath>\n",
       "</defs>\n",
       "<polyline clip-path=\"url(#clip5802)\" style=\"stroke:#000000; stroke-width:2; stroke-opacity:0.1; fill:none\" points=\"\n",
       "  303.55,1425.62 303.55,121.675 \n",
       "  \"/>\n",
       "<polyline clip-path=\"url(#clip5802)\" style=\"stroke:#000000; stroke-width:2; stroke-opacity:0.1; fill:none\" points=\"\n",
       "  800.93,1425.62 800.93,121.675 \n",
       "  \"/>\n",
       "<polyline clip-path=\"url(#clip5802)\" style=\"stroke:#000000; stroke-width:2; stroke-opacity:0.1; fill:none\" points=\"\n",
       "  1298.31,1425.62 1298.31,121.675 \n",
       "  \"/>\n",
       "<polyline clip-path=\"url(#clip5802)\" style=\"stroke:#000000; stroke-width:2; stroke-opacity:0.1; fill:none\" points=\"\n",
       "  1795.69,1425.62 1795.69,121.675 \n",
       "  \"/>\n",
       "<polyline clip-path=\"url(#clip5802)\" style=\"stroke:#000000; stroke-width:2; stroke-opacity:0.1; fill:none\" points=\"\n",
       "  2293.07,1425.62 2293.07,121.675 \n",
       "  \"/>\n",
       "<polyline clip-path=\"url(#clip5802)\" style=\"stroke:#000000; stroke-width:2; stroke-opacity:0.1; fill:none\" points=\"\n",
       "  243.864,1278.13 2352.76,1278.13 \n",
       "  \"/>\n",
       "<polyline clip-path=\"url(#clip5802)\" style=\"stroke:#000000; stroke-width:2; stroke-opacity:0.1; fill:none\" points=\"\n",
       "  243.864,1019.77 2352.76,1019.77 \n",
       "  \"/>\n",
       "<polyline clip-path=\"url(#clip5802)\" style=\"stroke:#000000; stroke-width:2; stroke-opacity:0.1; fill:none\" points=\"\n",
       "  243.864,761.414 2352.76,761.414 \n",
       "  \"/>\n",
       "<polyline clip-path=\"url(#clip5802)\" style=\"stroke:#000000; stroke-width:2; stroke-opacity:0.1; fill:none\" points=\"\n",
       "  243.864,503.056 2352.76,503.056 \n",
       "  \"/>\n",
       "<polyline clip-path=\"url(#clip5802)\" style=\"stroke:#000000; stroke-width:2; stroke-opacity:0.1; fill:none\" points=\"\n",
       "  243.864,244.698 2352.76,244.698 \n",
       "  \"/>\n",
       "<polyline clip-path=\"url(#clip5800)\" style=\"stroke:#000000; stroke-width:4; stroke-opacity:1; fill:none\" points=\"\n",
       "  243.864,1425.62 2352.76,1425.62 \n",
       "  \"/>\n",
       "<polyline clip-path=\"url(#clip5800)\" style=\"stroke:#000000; stroke-width:4; stroke-opacity:1; fill:none\" points=\"\n",
       "  243.864,1425.62 243.864,121.675 \n",
       "  \"/>\n",
       "<polyline clip-path=\"url(#clip5800)\" style=\"stroke:#000000; stroke-width:4; stroke-opacity:1; fill:none\" points=\"\n",
       "  303.55,1425.62 303.55,1409.97 \n",
       "  \"/>\n",
       "<polyline clip-path=\"url(#clip5800)\" style=\"stroke:#000000; stroke-width:4; stroke-opacity:1; fill:none\" points=\"\n",
       "  800.93,1425.62 800.93,1409.97 \n",
       "  \"/>\n",
       "<polyline clip-path=\"url(#clip5800)\" style=\"stroke:#000000; stroke-width:4; stroke-opacity:1; fill:none\" points=\"\n",
       "  1298.31,1425.62 1298.31,1409.97 \n",
       "  \"/>\n",
       "<polyline clip-path=\"url(#clip5800)\" style=\"stroke:#000000; stroke-width:4; stroke-opacity:1; fill:none\" points=\"\n",
       "  1795.69,1425.62 1795.69,1409.97 \n",
       "  \"/>\n",
       "<polyline clip-path=\"url(#clip5800)\" style=\"stroke:#000000; stroke-width:4; stroke-opacity:1; fill:none\" points=\"\n",
       "  2293.07,1425.62 2293.07,1409.97 \n",
       "  \"/>\n",
       "<polyline clip-path=\"url(#clip5800)\" style=\"stroke:#000000; stroke-width:4; stroke-opacity:1; fill:none\" points=\"\n",
       "  243.864,1278.13 269.171,1278.13 \n",
       "  \"/>\n",
       "<polyline clip-path=\"url(#clip5800)\" style=\"stroke:#000000; stroke-width:4; stroke-opacity:1; fill:none\" points=\"\n",
       "  243.864,1019.77 269.171,1019.77 \n",
       "  \"/>\n",
       "<polyline clip-path=\"url(#clip5800)\" style=\"stroke:#000000; stroke-width:4; stroke-opacity:1; fill:none\" points=\"\n",
       "  243.864,761.414 269.171,761.414 \n",
       "  \"/>\n",
       "<polyline clip-path=\"url(#clip5800)\" style=\"stroke:#000000; stroke-width:4; stroke-opacity:1; fill:none\" points=\"\n",
       "  243.864,503.056 269.171,503.056 \n",
       "  \"/>\n",
       "<polyline clip-path=\"url(#clip5800)\" style=\"stroke:#000000; stroke-width:4; stroke-opacity:1; fill:none\" points=\"\n",
       "  243.864,244.698 269.171,244.698 \n",
       "  \"/>\n",
       "<g clip-path=\"url(#clip5800)\">\n",
       "<text style=\"fill:#000000; fill-opacity:1; font-family:Arial,Helvetica Neue,Helvetica,sans-serif; font-size:48px; text-anchor:middle;\" transform=\"rotate(0, 303.55, 1479.62)\" x=\"303.55\" y=\"1479.62\">-1.0</text>\n",
       "</g>\n",
       "<g clip-path=\"url(#clip5800)\">\n",
       "<text style=\"fill:#000000; fill-opacity:1; font-family:Arial,Helvetica Neue,Helvetica,sans-serif; font-size:48px; text-anchor:middle;\" transform=\"rotate(0, 800.93, 1479.62)\" x=\"800.93\" y=\"1479.62\">-0.5</text>\n",
       "</g>\n",
       "<g clip-path=\"url(#clip5800)\">\n",
       "<text style=\"fill:#000000; fill-opacity:1; font-family:Arial,Helvetica Neue,Helvetica,sans-serif; font-size:48px; text-anchor:middle;\" transform=\"rotate(0, 1298.31, 1479.62)\" x=\"1298.31\" y=\"1479.62\">0.0</text>\n",
       "</g>\n",
       "<g clip-path=\"url(#clip5800)\">\n",
       "<text style=\"fill:#000000; fill-opacity:1; font-family:Arial,Helvetica Neue,Helvetica,sans-serif; font-size:48px; text-anchor:middle;\" transform=\"rotate(0, 1795.69, 1479.62)\" x=\"1795.69\" y=\"1479.62\">0.5</text>\n",
       "</g>\n",
       "<g clip-path=\"url(#clip5800)\">\n",
       "<text style=\"fill:#000000; fill-opacity:1; font-family:Arial,Helvetica Neue,Helvetica,sans-serif; font-size:48px; text-anchor:middle;\" transform=\"rotate(0, 2293.07, 1479.62)\" x=\"2293.07\" y=\"1479.62\">1.0</text>\n",
       "</g>\n",
       "<g clip-path=\"url(#clip5800)\">\n",
       "<text style=\"fill:#000000; fill-opacity:1; font-family:Arial,Helvetica Neue,Helvetica,sans-serif; font-size:48px; text-anchor:end;\" transform=\"rotate(0, 219.864, 1295.63)\" x=\"219.864\" y=\"1295.63\">-0.3</text>\n",
       "</g>\n",
       "<g clip-path=\"url(#clip5800)\">\n",
       "<text style=\"fill:#000000; fill-opacity:1; font-family:Arial,Helvetica Neue,Helvetica,sans-serif; font-size:48px; text-anchor:end;\" transform=\"rotate(0, 219.864, 1037.27)\" x=\"219.864\" y=\"1037.27\">0.0</text>\n",
       "</g>\n",
       "<g clip-path=\"url(#clip5800)\">\n",
       "<text style=\"fill:#000000; fill-opacity:1; font-family:Arial,Helvetica Neue,Helvetica,sans-serif; font-size:48px; text-anchor:end;\" transform=\"rotate(0, 219.864, 778.914)\" x=\"219.864\" y=\"778.914\">0.3</text>\n",
       "</g>\n",
       "<g clip-path=\"url(#clip5800)\">\n",
       "<text style=\"fill:#000000; fill-opacity:1; font-family:Arial,Helvetica Neue,Helvetica,sans-serif; font-size:48px; text-anchor:end;\" transform=\"rotate(0, 219.864, 520.556)\" x=\"219.864\" y=\"520.556\">0.6</text>\n",
       "</g>\n",
       "<g clip-path=\"url(#clip5800)\">\n",
       "<text style=\"fill:#000000; fill-opacity:1; font-family:Arial,Helvetica Neue,Helvetica,sans-serif; font-size:48px; text-anchor:end;\" transform=\"rotate(0, 219.864, 262.198)\" x=\"219.864\" y=\"262.198\">0.9</text>\n",
       "</g>\n",
       "<g clip-path=\"url(#clip5800)\">\n",
       "<text style=\"fill:#000000; fill-opacity:1; font-family:Arial,Helvetica Neue,Helvetica,sans-serif; font-size:84px; text-anchor:middle;\" transform=\"rotate(0, 1298.31, 73.2)\" x=\"1298.31\" y=\"73.2\">Wielomian Legendre&apos;a stopnia 4</text>\n",
       "</g>\n",
       "<g clip-path=\"url(#clip5800)\">\n",
       "<text style=\"fill:#000000; fill-opacity:1; font-family:Arial,Helvetica Neue,Helvetica,sans-serif; font-size:66px; text-anchor:middle;\" transform=\"rotate(0, 1298.31, 1559.48)\" x=\"1298.31\" y=\"1559.48\">Os X</text>\n",
       "</g>\n",
       "<g clip-path=\"url(#clip5800)\">\n",
       "<text style=\"fill:#000000; fill-opacity:1; font-family:Arial,Helvetica Neue,Helvetica,sans-serif; font-size:66px; text-anchor:middle;\" transform=\"rotate(-90, 89.2861, 773.647)\" x=\"89.2861\" y=\"773.647\">Os Y</text>\n",
       "</g>\n",
       "<polyline clip-path=\"url(#clip5802)\" style=\"stroke:#009af9; stroke-width:4; stroke-opacity:1; fill:none\" points=\"\n",
       "  303.55,158.579 313.497,242.776 323.445,323.187 333.393,399.902 343.34,473.008 353.288,542.593 363.235,608.744 373.183,671.546 383.131,731.083 393.078,787.439 \n",
       "  403.026,840.697 412.973,890.939 422.921,938.245 432.869,982.695 442.816,1024.37 452.764,1063.35 462.711,1099.7 472.659,1133.51 482.607,1164.85 492.554,1193.8 \n",
       "  502.502,1220.43 512.449,1244.81 522.397,1267.01 532.345,1287.11 542.292,1305.17 552.24,1321.27 562.187,1335.47 572.135,1347.84 582.083,1358.45 592.03,1367.36 \n",
       "  601.978,1374.64 611.925,1380.34 621.873,1384.54 631.821,1387.3 641.768,1388.67 651.716,1388.71 661.663,1387.5 671.611,1385.07 681.559,1381.5 691.506,1376.84 \n",
       "  701.454,1371.14 711.401,1364.46 721.349,1356.84 731.297,1348.36 741.244,1339.05 751.192,1328.97 761.14,1318.17 771.087,1306.69 781.035,1294.59 790.982,1281.92 \n",
       "  800.93,1268.71 810.878,1255.02 820.825,1240.89 830.773,1226.36 840.72,1211.48 850.668,1196.29 860.616,1180.83 870.563,1165.14 880.511,1149.26 890.458,1133.23 \n",
       "  900.406,1117.09 910.354,1100.86 920.301,1084.6 930.249,1068.33 940.196,1052.08 950.144,1035.89 960.092,1019.8 970.039,1003.83 979.987,988.015 989.934,972.381 \n",
       "  999.882,956.958 1009.83,941.774 1019.78,926.856 1029.72,912.229 1039.67,897.919 1049.62,883.948 1059.57,870.341 1069.52,857.12 1079.46,844.304 1089.41,831.916 \n",
       "  1099.36,819.975 1109.31,808.498 1119.25,797.504 1129.2,787.009 1139.15,777.029 1149.1,767.58 1159.04,758.674 1168.99,750.326 1178.94,742.547 1188.89,735.349 \n",
       "  1198.83,728.742 1208.78,722.736 1218.73,717.338 1228.68,712.558 1238.62,708.401 1248.57,704.874 1258.52,701.982 1268.47,699.728 1278.41,698.115 1288.36,697.147 \n",
       "  1298.31,696.824 1308.26,697.147 1318.21,698.115 1328.15,699.728 1338.1,701.982 1348.05,704.874 1358,708.401 1367.94,712.558 1377.89,717.338 1387.84,722.736 \n",
       "  1397.79,728.742 1407.73,735.349 1417.68,742.547 1427.63,750.326 1437.58,758.674 1447.52,767.58 1457.47,777.029 1467.42,787.009 1477.37,797.504 1487.31,808.498 \n",
       "  1497.26,819.975 1507.21,831.916 1517.16,844.304 1527.1,857.12 1537.05,870.341 1547,883.948 1556.95,897.919 1566.9,912.229 1576.84,926.856 1586.79,941.774 \n",
       "  1596.74,956.958 1606.69,972.381 1616.63,988.015 1626.58,1003.83 1636.53,1019.8 1646.48,1035.89 1656.42,1052.08 1666.37,1068.33 1676.32,1084.6 1686.27,1100.86 \n",
       "  1696.21,1117.09 1706.16,1133.23 1716.11,1149.26 1726.06,1165.14 1736,1180.83 1745.95,1196.29 1755.9,1211.48 1765.85,1226.36 1775.79,1240.89 1785.74,1255.02 \n",
       "  1795.69,1268.71 1805.64,1281.92 1815.59,1294.59 1825.53,1306.69 1835.48,1318.17 1845.43,1328.97 1855.38,1339.05 1865.32,1348.36 1875.27,1356.84 1885.22,1364.46 \n",
       "  1895.17,1371.14 1905.11,1376.84 1915.06,1381.5 1925.01,1385.07 1934.96,1387.5 1944.9,1388.71 1954.85,1388.67 1964.8,1387.3 1974.75,1384.54 1984.69,1380.34 \n",
       "  1994.64,1374.64 2004.59,1367.36 2014.54,1358.45 2024.49,1347.84 2034.43,1335.47 2044.38,1321.27 2054.33,1305.17 2064.28,1287.11 2074.22,1267.01 2084.17,1244.81 \n",
       "  2094.12,1220.43 2104.07,1193.8 2114.01,1164.85 2123.96,1133.51 2133.91,1099.7 2143.86,1063.35 2153.8,1024.37 2163.75,982.695 2173.7,938.245 2183.65,890.939 \n",
       "  2193.59,840.697 2203.54,787.439 2213.49,731.083 2223.44,671.546 2233.38,608.744 2243.33,542.593 2253.28,473.008 2263.23,399.902 2273.18,323.187 2283.12,242.776 \n",
       "  2293.07,158.579 \n",
       "  \"/>\n",
       "</svg>\n"
      ]
     },
     "execution_count": 150,
     "metadata": {},
     "output_type": "execute_result"
    }
   ],
   "source": [
    "plot(xaxis, [WielomianLegendre(4)(x) for x in xaxis], title=\"Wielomian Legendre'a stopnia 4\", xaxis=\"Os X\", yaxis=\"Os Y\", label=\"\")"
   ]
  },
  {
   "cell_type": "markdown",
   "metadata": {},
   "source": [
    "### Porównanie odciętych punktów Gaussa z miejscami zerowymi"
   ]
  },
  {
   "cell_type": "code",
   "execution_count": 151,
   "metadata": {},
   "outputs": [
    {
     "data": {
      "text/plain": [
       "Test (generic function with 1 method)"
      ]
     },
     "execution_count": 151,
     "metadata": {},
     "output_type": "execute_result"
    }
   ],
   "source": [
    "function Test(stopien)\n",
    "    miejscaZerowe = [round.(x, digits=15) for x in roots(WielomianLegendre(2))]\n",
    "    odcietePunktowGaussa = [round.(x, digits=15) for x in gauss(Float64, 2)[1]]\n",
    "    \n",
    "    if miejscaZerowe == odcietePunktowGaussa\n",
    "        println(\"Punkty są takie same\")\n",
    "    else\n",
    "        println(\"Punkty się różnią\")\n",
    "    end\n",
    "end"
   ]
  },
  {
   "cell_type": "code",
   "execution_count": 152,
   "metadata": {},
   "outputs": [
    {
     "name": "stdout",
     "output_type": "stream",
     "text": [
      "Punkty są takie same\n"
     ]
    }
   ],
   "source": [
    "# Test dla wielomianu 2 stopnia\n",
    "Test(2)"
   ]
  },
  {
   "cell_type": "code",
   "execution_count": 153,
   "metadata": {},
   "outputs": [
    {
     "name": "stdout",
     "output_type": "stream",
     "text": [
      "Punkty są takie same\n"
     ]
    }
   ],
   "source": [
    "# Test dla wielomianu 3 stopnia\n",
    "Test(3)"
   ]
  },
  {
   "cell_type": "code",
   "execution_count": 154,
   "metadata": {
    "scrolled": false
   },
   "outputs": [
    {
     "name": "stdout",
     "output_type": "stream",
     "text": [
      "Punkty są takie same\n"
     ]
    }
   ],
   "source": [
    "# Test dla wielomianu 2 stopnia\n",
    "Test(4)"
   ]
  },
  {
   "cell_type": "markdown",
   "metadata": {},
   "source": [
    "### Wniosek"
   ]
  },
  {
   "cell_type": "markdown",
   "metadata": {},
   "source": [
    "Miejsca zerowe oraz odcięte punktów Gaussa są takie same. Z podstawowego twierdzenia kwadratur Gaussa można wywnioskować, że miejsca zerowe wielomianu stopnia n są odciętymi n-punktowej kwadratury."
   ]
  },
  {
   "cell_type": "markdown",
   "metadata": {},
   "source": [
    "## Zadanie 2"
   ]
  },
  {
   "cell_type": "markdown",
   "metadata": {},
   "source": [
    "### Funkcja licząca $\\int_{-1}^{1} f dx$ "
   ]
  },
  {
   "cell_type": "code",
   "execution_count": 155,
   "metadata": {},
   "outputs": [
    {
     "data": {
      "text/plain": [
       "Calk (generic function with 1 method)"
      ]
     },
     "execution_count": 155,
     "metadata": {},
     "output_type": "execute_result"
    }
   ],
   "source": [
    "function Calk(f, k)\n",
    "    xp, a = gauss(Float64,k)\n",
    "    return sum(a .* f.(xp))\n",
    "end"
   ]
  },
  {
   "cell_type": "markdown",
   "metadata": {},
   "source": [
    "### Test funkcji oraz sprawdzanie dokładności"
   ]
  },
  {
   "cell_type": "code",
   "execution_count": 156,
   "metadata": {},
   "outputs": [],
   "source": [
    "using FastGaussQuadrature\n",
    "using LinearAlgebra"
   ]
  },
  {
   "cell_type": "markdown",
   "metadata": {},
   "source": [
    "Wynik porównuję z wynikiem całki również metodą kwadratury Gaussa z pakietu FastGaussQuadrature, w które ilość punktów Gaussa jest równa stopniowi wielomianu"
   ]
  },
  {
   "cell_type": "code",
   "execution_count": 157,
   "metadata": {},
   "outputs": [
    {
     "data": {
      "text/plain": [
       "testAccuracy (generic function with 1 method)"
      ]
     },
     "execution_count": 157,
     "metadata": {},
     "output_type": "execute_result"
    }
   ],
   "source": [
    "function testAccuracy(k, stopien)\n",
    "    print(\"Dla stopnia: \")\n",
    "    println(stopien)\n",
    "    result = round(Calk(WielomianLegendre(stopien), k), digits = 20)\n",
    "    println(\"Wynik całkowania własną funkcją: \")\n",
    "    println(result)\n",
    "    \n",
    "    nodes, weights = gausslegendre(stopien);\n",
    "    result2 = dot( weights, [WielomianLegendre(stopien)(x) for x in nodes])\n",
    "    println(\"Wynik całkowania z pakietu FastGaussQuadrature: \")\n",
    "    println(round(result2, digits = 20))\n",
    "end"
   ]
  },
  {
   "cell_type": "code",
   "execution_count": 158,
   "metadata": {},
   "outputs": [
    {
     "name": "stdout",
     "output_type": "stream",
     "text": [
      "Dla 4 punktów Gaussa\n",
      "##################################################\n",
      "Dla stopnia: 2\n",
      "Wynik całkowania własną funkcją: \n",
      "2.7756e-16\n",
      "Wynik całkowania z pakietu FastGaussQuadrature: \n",
      "2.2204e-16\n",
      "--------------------------------------------\n",
      "Dla stopnia: 3\n",
      "Wynik całkowania własną funkcją: \n",
      "0.0\n",
      "Wynik całkowania z pakietu FastGaussQuadrature: \n",
      "0.0\n",
      "--------------------------------------------\n",
      "Dla stopnia: 4\n",
      "Wynik całkowania własną funkcją: \n",
      "-1.8826e-16\n",
      "Wynik całkowania z pakietu FastGaussQuadrature: \n",
      "-1.8826e-16\n",
      "--------------------------------------------\n",
      "Dla stopnia: 5\n",
      "Wynik całkowania własną funkcją: \n",
      "1.388e-17\n",
      "Wynik całkowania z pakietu FastGaussQuadrature: \n",
      "0.0\n",
      "--------------------------------------------\n",
      "Dla stopnia: 6\n",
      "Wynik całkowania własną funkcją: \n",
      "1.44329e-15\n",
      "Wynik całkowania z pakietu FastGaussQuadrature: \n",
      "1.8622e-15\n",
      "--------------------------------------------\n"
     ]
    }
   ],
   "source": [
    "println(\"Dla 4 punktów Gaussa\")\n",
    "println(\"##################################################\")\n",
    "for s in 2:6\n",
    "    testAccuracy(4,s)\n",
    "    println(\"--------------------------------------------\")\n",
    "end"
   ]
  },
  {
   "cell_type": "markdown",
   "metadata": {},
   "source": [
    "### Wniosek"
   ]
  },
  {
   "cell_type": "markdown",
   "metadata": {},
   "source": [
    "Zgodnie z twierdzeniem o dokładności stopnia wielomianu kwadratury Gaussa, jest ona dokładna dla stopnia wielomianu co najwyżej 2k-1"
   ]
  },
  {
   "cell_type": "markdown",
   "metadata": {},
   "source": [
    "## Zadanie 3"
   ]
  },
  {
   "cell_type": "markdown",
   "metadata": {},
   "source": [
    "### Funkcja licząca $\\int_{-b}^{a} f dx$ "
   ]
  },
  {
   "cell_type": "code",
   "execution_count": 159,
   "metadata": {},
   "outputs": [
    {
     "data": {
      "text/plain": [
       "uniCalk (generic function with 1 method)"
      ]
     },
     "execution_count": 159,
     "metadata": {},
     "output_type": "execute_result"
    }
   ],
   "source": [
    "function uniCalk(f, k, a, b)\n",
    "    xp, r = gauss(Float64,k)\n",
    "    return round((b-a)/2 * sum(r .* f.((b-a)/2 .* xp .+ (b+a)/2)), digits=6)\n",
    "end"
   ]
  },
  {
   "cell_type": "markdown",
   "metadata": {},
   "source": [
    "#### Przykład 1"
   ]
  },
  {
   "cell_type": "code",
   "execution_count": 160,
   "metadata": {},
   "outputs": [
    {
     "data": {
      "text/plain": [
       "0.459698"
      ]
     },
     "execution_count": 160,
     "metadata": {},
     "output_type": "execute_result"
    }
   ],
   "source": [
    "uniCalk(sin, 100, 0, 1)"
   ]
  },
  {
   "cell_type": "markdown",
   "metadata": {},
   "source": [
    "Analitycznie dostajemy -cos(1) + 1, co daje ~0.45969"
   ]
  },
  {
   "cell_type": "markdown",
   "metadata": {},
   "source": [
    "#### Przykład 2"
   ]
  },
  {
   "cell_type": "code",
   "execution_count": 161,
   "metadata": {},
   "outputs": [
    {
     "data": {
      "text/plain": [
       "552.083333"
      ]
     },
     "execution_count": 161,
     "metadata": {},
     "output_type": "execute_result"
    }
   ],
   "source": [
    "uniCalk(x -> 3x^3+2x^2, 100, 0, 5)"
   ]
  },
  {
   "cell_type": "markdown",
   "metadata": {},
   "source": [
    "Analitycznie dostajemy 6625/12, czyli 552,08333..."
   ]
  },
  {
   "cell_type": "markdown",
   "metadata": {},
   "source": [
    "#### Przykład 3"
   ]
  },
  {
   "cell_type": "code",
   "execution_count": 162,
   "metadata": {},
   "outputs": [
    {
     "data": {
      "text/plain": [
       "-0.613581"
      ]
     },
     "execution_count": 162,
     "metadata": {},
     "output_type": "execute_result"
    }
   ],
   "source": [
    "uniCalk(log, 100, 0, 2)"
   ]
  },
  {
   "cell_type": "markdown",
   "metadata": {},
   "source": [
    "Analitycznie dostajemy 2ln(2) - 2, czyli ~-0.61370"
   ]
  },
  {
   "cell_type": "markdown",
   "metadata": {},
   "source": [
    "## Zadanie 4"
   ]
  },
  {
   "cell_type": "code",
   "execution_count": 163,
   "metadata": {},
   "outputs": [],
   "source": [
    "using QuadGK"
   ]
  },
  {
   "cell_type": "markdown",
   "metadata": {},
   "source": [
    "### Całkowanie wielomianu Legendre stopnia 3"
   ]
  },
  {
   "cell_type": "code",
   "execution_count": 164,
   "metadata": {},
   "outputs": [
    {
     "data": {
      "text/plain": [
       "-8.72125759873829e-17"
      ]
     },
     "execution_count": 164,
     "metadata": {},
     "output_type": "execute_result"
    }
   ],
   "source": [
    "quadgk(WielomianLegendre(3), -1, 1)[1]"
   ]
  },
  {
   "cell_type": "markdown",
   "metadata": {},
   "source": [
    "###  $\\int_{-\\inf}^{\\inf} \\frac{1}{\\sqrt{2\\pi}}exp(\\frac{-x^2}{2}) dx$ "
   ]
  },
  {
   "cell_type": "code",
   "execution_count": 168,
   "metadata": {},
   "outputs": [
    {
     "data": {
      "text/plain": [
       "(1.0000000000032583, 1.4395584941504537e-8)"
      ]
     },
     "execution_count": 168,
     "metadata": {},
     "output_type": "execute_result"
    }
   ],
   "source": [
    "quadgk(x -> 1/sqrt(2*pi)*exp(-x^2/2), -Inf, Inf)"
   ]
  },
  {
   "cell_type": "markdown",
   "metadata": {},
   "source": [
    "## Zadanie 5\n"
   ]
  },
  {
   "cell_type": "code",
   "execution_count": 175,
   "metadata": {},
   "outputs": [
    {
     "data": {
      "text/plain": [
       "Riemann (generic function with 3 methods)"
      ]
     },
     "execution_count": 175,
     "metadata": {},
     "output_type": "execute_result"
    }
   ],
   "source": [
    "function Riemann(f,a,b,n)\n",
    "    c=(b-a)/n\n",
    "    return round(sum(f.(a.+[1:n...]c))c, digits=5)\n",
    "end"
   ]
  },
  {
   "cell_type": "markdown",
   "metadata": {},
   "source": [
    "#### Wykres funkcji błędu całkowania $ 2^x $ na przedziale [0, 1]"
   ]
  },
  {
   "cell_type": "markdown",
   "metadata": {},
   "source": [
    "Analitycznie wynikiem jest $ 1/ln(2) $, czyli ~1.44269"
   ]
  },
  {
   "cell_type": "code",
   "execution_count": 176,
   "metadata": {},
   "outputs": [
    {
     "data": {
      "image/svg+xml": [
       "<?xml version=\"1.0\" encoding=\"utf-8\"?>\n",
       "<svg xmlns=\"http://www.w3.org/2000/svg\" xmlns:xlink=\"http://www.w3.org/1999/xlink\" width=\"600\" height=\"400\" viewBox=\"0 0 2400 1600\">\n",
       "<defs>\n",
       "  <clipPath id=\"clip7000\">\n",
       "    <rect x=\"0\" y=\"0\" width=\"2400\" height=\"1600\"/>\n",
       "  </clipPath>\n",
       "</defs>\n",
       "<path clip-path=\"url(#clip7000)\" d=\"\n",
       "M0 1600 L2400 1600 L2400 0 L0 0  Z\n",
       "  \" fill=\"#ffffff\" fill-rule=\"evenodd\" fill-opacity=\"1\"/>\n",
       "<defs>\n",
       "  <clipPath id=\"clip7001\">\n",
       "    <rect x=\"480\" y=\"0\" width=\"1681\" height=\"1600\"/>\n",
       "  </clipPath>\n",
       "</defs>\n",
       "<path clip-path=\"url(#clip7000)\" d=\"\n",
       "M229.135 1425.62 L2352.76 1425.62 L2352.76 121.675 L229.135 121.675  Z\n",
       "  \" fill=\"#ffffff\" fill-rule=\"evenodd\" fill-opacity=\"1\"/>\n",
       "<defs>\n",
       "  <clipPath id=\"clip7002\">\n",
       "    <rect x=\"229\" y=\"121\" width=\"2125\" height=\"1305\"/>\n",
       "  </clipPath>\n",
       "</defs>\n",
       "<polyline clip-path=\"url(#clip7002)\" style=\"stroke:#000000; stroke-width:2; stroke-opacity:0.1; fill:none\" points=\"\n",
       "  287.214,1425.62 287.214,121.675 \n",
       "  \"/>\n",
       "<polyline clip-path=\"url(#clip7002)\" style=\"stroke:#000000; stroke-width:2; stroke-opacity:0.1; fill:none\" points=\"\n",
       "  793.127,1425.62 793.127,121.675 \n",
       "  \"/>\n",
       "<polyline clip-path=\"url(#clip7002)\" style=\"stroke:#000000; stroke-width:2; stroke-opacity:0.1; fill:none\" points=\"\n",
       "  1299.04,1425.62 1299.04,121.675 \n",
       "  \"/>\n",
       "<polyline clip-path=\"url(#clip7002)\" style=\"stroke:#000000; stroke-width:2; stroke-opacity:0.1; fill:none\" points=\"\n",
       "  1804.95,1425.62 1804.95,121.675 \n",
       "  \"/>\n",
       "<polyline clip-path=\"url(#clip7002)\" style=\"stroke:#000000; stroke-width:2; stroke-opacity:0.1; fill:none\" points=\"\n",
       "  2310.87,1425.62 2310.87,121.675 \n",
       "  \"/>\n",
       "<polyline clip-path=\"url(#clip7002)\" style=\"stroke:#000000; stroke-width:2; stroke-opacity:0.1; fill:none\" points=\"\n",
       "  229.135,1113.65 2352.76,1113.65 \n",
       "  \"/>\n",
       "<polyline clip-path=\"url(#clip7002)\" style=\"stroke:#000000; stroke-width:2; stroke-opacity:0.1; fill:none\" points=\"\n",
       "  229.135,794.918 2352.76,794.918 \n",
       "  \"/>\n",
       "<polyline clip-path=\"url(#clip7002)\" style=\"stroke:#000000; stroke-width:2; stroke-opacity:0.1; fill:none\" points=\"\n",
       "  229.135,476.185 2352.76,476.185 \n",
       "  \"/>\n",
       "<polyline clip-path=\"url(#clip7002)\" style=\"stroke:#000000; stroke-width:2; stroke-opacity:0.1; fill:none\" points=\"\n",
       "  229.135,157.452 2352.76,157.452 \n",
       "  \"/>\n",
       "<polyline clip-path=\"url(#clip7000)\" style=\"stroke:#000000; stroke-width:4; stroke-opacity:1; fill:none\" points=\"\n",
       "  229.135,1425.62 2352.76,1425.62 \n",
       "  \"/>\n",
       "<polyline clip-path=\"url(#clip7000)\" style=\"stroke:#000000; stroke-width:4; stroke-opacity:1; fill:none\" points=\"\n",
       "  229.135,1425.62 229.135,121.675 \n",
       "  \"/>\n",
       "<polyline clip-path=\"url(#clip7000)\" style=\"stroke:#000000; stroke-width:4; stroke-opacity:1; fill:none\" points=\"\n",
       "  287.214,1425.62 287.214,1409.97 \n",
       "  \"/>\n",
       "<polyline clip-path=\"url(#clip7000)\" style=\"stroke:#000000; stroke-width:4; stroke-opacity:1; fill:none\" points=\"\n",
       "  793.127,1425.62 793.127,1409.97 \n",
       "  \"/>\n",
       "<polyline clip-path=\"url(#clip7000)\" style=\"stroke:#000000; stroke-width:4; stroke-opacity:1; fill:none\" points=\"\n",
       "  1299.04,1425.62 1299.04,1409.97 \n",
       "  \"/>\n",
       "<polyline clip-path=\"url(#clip7000)\" style=\"stroke:#000000; stroke-width:4; stroke-opacity:1; fill:none\" points=\"\n",
       "  1804.95,1425.62 1804.95,1409.97 \n",
       "  \"/>\n",
       "<polyline clip-path=\"url(#clip7000)\" style=\"stroke:#000000; stroke-width:4; stroke-opacity:1; fill:none\" points=\"\n",
       "  2310.87,1425.62 2310.87,1409.97 \n",
       "  \"/>\n",
       "<polyline clip-path=\"url(#clip7000)\" style=\"stroke:#000000; stroke-width:4; stroke-opacity:1; fill:none\" points=\"\n",
       "  229.135,1113.65 254.619,1113.65 \n",
       "  \"/>\n",
       "<polyline clip-path=\"url(#clip7000)\" style=\"stroke:#000000; stroke-width:4; stroke-opacity:1; fill:none\" points=\"\n",
       "  229.135,794.918 254.619,794.918 \n",
       "  \"/>\n",
       "<polyline clip-path=\"url(#clip7000)\" style=\"stroke:#000000; stroke-width:4; stroke-opacity:1; fill:none\" points=\"\n",
       "  229.135,476.185 254.619,476.185 \n",
       "  \"/>\n",
       "<polyline clip-path=\"url(#clip7000)\" style=\"stroke:#000000; stroke-width:4; stroke-opacity:1; fill:none\" points=\"\n",
       "  229.135,157.452 254.619,157.452 \n",
       "  \"/>\n",
       "<g clip-path=\"url(#clip7000)\">\n",
       "<text style=\"fill:#000000; fill-opacity:1; font-family:Arial,Helvetica Neue,Helvetica,sans-serif; font-size:48px; text-anchor:middle;\" transform=\"rotate(0, 287.214, 1479.62)\" x=\"287.214\" y=\"1479.62\">0</text>\n",
       "</g>\n",
       "<g clip-path=\"url(#clip7000)\">\n",
       "<text style=\"fill:#000000; fill-opacity:1; font-family:Arial,Helvetica Neue,Helvetica,sans-serif; font-size:48px; text-anchor:middle;\" transform=\"rotate(0, 793.127, 1479.62)\" x=\"793.127\" y=\"1479.62\">250</text>\n",
       "</g>\n",
       "<g clip-path=\"url(#clip7000)\">\n",
       "<text style=\"fill:#000000; fill-opacity:1; font-family:Arial,Helvetica Neue,Helvetica,sans-serif; font-size:48px; text-anchor:middle;\" transform=\"rotate(0, 1299.04, 1479.62)\" x=\"1299.04\" y=\"1479.62\">500</text>\n",
       "</g>\n",
       "<g clip-path=\"url(#clip7000)\">\n",
       "<text style=\"fill:#000000; fill-opacity:1; font-family:Arial,Helvetica Neue,Helvetica,sans-serif; font-size:48px; text-anchor:middle;\" transform=\"rotate(0, 1804.95, 1479.62)\" x=\"1804.95\" y=\"1479.62\">750</text>\n",
       "</g>\n",
       "<g clip-path=\"url(#clip7000)\">\n",
       "<text style=\"fill:#000000; fill-opacity:1; font-family:Arial,Helvetica Neue,Helvetica,sans-serif; font-size:48px; text-anchor:middle;\" transform=\"rotate(0, 2310.87, 1479.62)\" x=\"2310.87\" y=\"1479.62\">1000</text>\n",
       "</g>\n",
       "<g clip-path=\"url(#clip7000)\">\n",
       "<text style=\"fill:#000000; fill-opacity:1; font-family:Arial,Helvetica Neue,Helvetica,sans-serif; font-size:48px; text-anchor:end;\" transform=\"rotate(0, 205.135, 1131.15)\" x=\"205.135\" y=\"1131.15\">70</text>\n",
       "</g>\n",
       "<g clip-path=\"url(#clip7000)\">\n",
       "<text style=\"fill:#000000; fill-opacity:1; font-family:Arial,Helvetica Neue,Helvetica,sans-serif; font-size:48px; text-anchor:end;\" transform=\"rotate(0, 205.135, 812.418)\" x=\"205.135\" y=\"812.418\">80</text>\n",
       "</g>\n",
       "<g clip-path=\"url(#clip7000)\">\n",
       "<text style=\"fill:#000000; fill-opacity:1; font-family:Arial,Helvetica Neue,Helvetica,sans-serif; font-size:48px; text-anchor:end;\" transform=\"rotate(0, 205.135, 493.685)\" x=\"205.135\" y=\"493.685\">90</text>\n",
       "</g>\n",
       "<g clip-path=\"url(#clip7000)\">\n",
       "<text style=\"fill:#000000; fill-opacity:1; font-family:Arial,Helvetica Neue,Helvetica,sans-serif; font-size:48px; text-anchor:end;\" transform=\"rotate(0, 205.135, 174.952)\" x=\"205.135\" y=\"174.952\">100</text>\n",
       "</g>\n",
       "<g clip-path=\"url(#clip7000)\">\n",
       "<text style=\"fill:#000000; fill-opacity:1; font-family:Arial,Helvetica Neue,Helvetica,sans-serif; font-size:84px; text-anchor:middle;\" transform=\"rotate(0, 1290.95, 73.2)\" x=\"1290.95\" y=\"73.2\">Wykres funkcji bledu calkownia 2^x na przedziale [0,1]</text>\n",
       "</g>\n",
       "<g clip-path=\"url(#clip7000)\">\n",
       "<text style=\"fill:#000000; fill-opacity:1; font-family:Arial,Helvetica Neue,Helvetica,sans-serif; font-size:66px; text-anchor:middle;\" transform=\"rotate(0, 1290.95, 1559.48)\" x=\"1290.95\" y=\"1559.48\">Ilosc przedzialow</text>\n",
       "</g>\n",
       "<g clip-path=\"url(#clip7000)\">\n",
       "<text style=\"fill:#000000; fill-opacity:1; font-family:Arial,Helvetica Neue,Helvetica,sans-serif; font-size:66px; text-anchor:middle;\" transform=\"rotate(-90, 89.2861, 773.647)\" x=\"89.2861\" y=\"773.647\">Dokladnosc [%]</text>\n",
       "</g>\n",
       "<polyline clip-path=\"url(#clip7002)\" style=\"stroke:#009af9; stroke-width:4; stroke-opacity:1; fill:none\" points=\"\n",
       "  289.238,1388.71 309.474,258.947 329.711,210.365 349.947,193.221 370.184,184.472 390.42,179.17 410.657,175.613 430.893,173.05 451.13,171.128 471.366,169.626 \n",
       "  491.603,168.411 511.839,167.416 532.076,166.599 552.313,165.914 572.549,165.295 592.786,164.787 613.022,164.323 633.259,163.926 653.495,163.572 673.732,163.241 \n",
       "  693.968,162.954 714.205,162.711 734.441,162.468 754.678,162.247 774.914,162.048 795.151,161.871 815.387,161.694 835.624,161.54 855.86,161.407 876.097,161.252 \n",
       "  896.333,161.142 916.57,161.009 936.806,160.899 957.043,160.811 977.279,160.7 997.516,160.612 1017.75,160.523 1037.99,160.435 1058.23,160.369 1078.46,160.28 \n",
       "  1098.7,160.214 1118.94,160.148 1139.17,160.082 1159.41,160.037 1179.64,159.971 1199.88,159.905 1220.12,159.861 1240.35,159.816 1260.59,159.75 1280.83,159.706 \n",
       "  1301.06,159.662 1321.3,159.618 1341.54,159.573 1361.77,159.551 1382.01,159.507 1402.25,159.463 1422.48,159.441 1442.72,159.397 1462.96,159.375 1483.19,159.33 \n",
       "  1503.43,159.308 1523.67,159.264 1543.9,159.242 1564.14,159.22 1584.38,159.198 1604.61,159.154 1624.85,159.132 1645.08,159.109 1665.32,159.087 1685.56,159.065 \n",
       "  1705.79,159.043 1726.03,159.021 1746.27,158.999 1766.5,158.977 1786.74,158.955 1806.98,158.933 1827.21,158.911 1847.45,158.888 1867.69,158.888 1887.92,158.866 \n",
       "  1908.16,158.844 1928.4,158.822 1948.63,158.8 1968.87,158.8 1989.11,158.778 2009.34,158.756 2029.58,158.756 2049.82,158.734 2070.05,158.712 2090.29,158.712 \n",
       "  2110.52,158.69 2130.76,158.668 2151,158.668 2171.23,158.645 2191.47,158.645 2211.71,158.623 2231.94,158.623 2252.18,158.601 2272.42,158.579 2292.65,158.579 \n",
       "  \n",
       "  \"/>\n",
       "</svg>\n"
      ]
     },
     "execution_count": 176,
     "metadata": {},
     "output_type": "execute_result"
    }
   ],
   "source": [
    "analyticResult = 1.44269\n",
    "\n",
    "xaxis = 1:10:1000\n",
    "errors = [(1-abs((analyticResult \n",
    "                - Riemann(x -> 2^x, 0, 1, x))/analyticResult))*100 \n",
    "    for x in xaxis]\n",
    "plot(points, \n",
    "    errors,\n",
    "    title=\"Wykres funkcji bledu calkownia 2^x na przedziale [0,1]\",\n",
    "    xaxis=\"Ilosc przedzialow\", \n",
    "    yaxis=\"Dokladnosc [%]\", \n",
    "    label=\"\")"
   ]
  },
  {
   "cell_type": "markdown",
   "metadata": {},
   "source": [
    "#### Wykres funkcji błędu całkownia sin(x) na przedziale $ [0, 1] $"
   ]
  },
  {
   "cell_type": "code",
   "execution_count": 177,
   "metadata": {
    "scrolled": false
   },
   "outputs": [
    {
     "data": {
      "image/svg+xml": [
       "<?xml version=\"1.0\" encoding=\"utf-8\"?>\n",
       "<svg xmlns=\"http://www.w3.org/2000/svg\" xmlns:xlink=\"http://www.w3.org/1999/xlink\" width=\"600\" height=\"400\" viewBox=\"0 0 2400 1600\">\n",
       "<defs>\n",
       "  <clipPath id=\"clip7400\">\n",
       "    <rect x=\"0\" y=\"0\" width=\"2400\" height=\"1600\"/>\n",
       "  </clipPath>\n",
       "</defs>\n",
       "<path clip-path=\"url(#clip7400)\" d=\"\n",
       "M0 1600 L2400 1600 L2400 0 L0 0  Z\n",
       "  \" fill=\"#ffffff\" fill-rule=\"evenodd\" fill-opacity=\"1\"/>\n",
       "<defs>\n",
       "  <clipPath id=\"clip7401\">\n",
       "    <rect x=\"480\" y=\"0\" width=\"1681\" height=\"1600\"/>\n",
       "  </clipPath>\n",
       "</defs>\n",
       "<path clip-path=\"url(#clip7400)\" d=\"\n",
       "M229.135 1425.62 L2352.76 1425.62 L2352.76 121.675 L229.135 121.675  Z\n",
       "  \" fill=\"#ffffff\" fill-rule=\"evenodd\" fill-opacity=\"1\"/>\n",
       "<defs>\n",
       "  <clipPath id=\"clip7402\">\n",
       "    <rect x=\"229\" y=\"121\" width=\"2125\" height=\"1305\"/>\n",
       "  </clipPath>\n",
       "</defs>\n",
       "<polyline clip-path=\"url(#clip7402)\" style=\"stroke:#000000; stroke-width:2; stroke-opacity:0.1; fill:none\" points=\"\n",
       "  287.214,1425.62 287.214,121.675 \n",
       "  \"/>\n",
       "<polyline clip-path=\"url(#clip7402)\" style=\"stroke:#000000; stroke-width:2; stroke-opacity:0.1; fill:none\" points=\"\n",
       "  793.127,1425.62 793.127,121.675 \n",
       "  \"/>\n",
       "<polyline clip-path=\"url(#clip7402)\" style=\"stroke:#000000; stroke-width:2; stroke-opacity:0.1; fill:none\" points=\"\n",
       "  1299.04,1425.62 1299.04,121.675 \n",
       "  \"/>\n",
       "<polyline clip-path=\"url(#clip7402)\" style=\"stroke:#000000; stroke-width:2; stroke-opacity:0.1; fill:none\" points=\"\n",
       "  1804.95,1425.62 1804.95,121.675 \n",
       "  \"/>\n",
       "<polyline clip-path=\"url(#clip7402)\" style=\"stroke:#000000; stroke-width:2; stroke-opacity:0.1; fill:none\" points=\"\n",
       "  2310.87,1425.62 2310.87,121.675 \n",
       "  \"/>\n",
       "<polyline clip-path=\"url(#clip7402)\" style=\"stroke:#000000; stroke-width:2; stroke-opacity:0.1; fill:none\" points=\"\n",
       "  229.135,1343.46 2352.76,1343.46 \n",
       "  \"/>\n",
       "<polyline clip-path=\"url(#clip7402)\" style=\"stroke:#000000; stroke-width:2; stroke-opacity:0.1; fill:none\" points=\"\n",
       "  229.135,1046.9 2352.76,1046.9 \n",
       "  \"/>\n",
       "<polyline clip-path=\"url(#clip7402)\" style=\"stroke:#000000; stroke-width:2; stroke-opacity:0.1; fill:none\" points=\"\n",
       "  229.135,750.328 2352.76,750.328 \n",
       "  \"/>\n",
       "<polyline clip-path=\"url(#clip7402)\" style=\"stroke:#000000; stroke-width:2; stroke-opacity:0.1; fill:none\" points=\"\n",
       "  229.135,453.76 2352.76,453.76 \n",
       "  \"/>\n",
       "<polyline clip-path=\"url(#clip7402)\" style=\"stroke:#000000; stroke-width:2; stroke-opacity:0.1; fill:none\" points=\"\n",
       "  229.135,157.192 2352.76,157.192 \n",
       "  \"/>\n",
       "<polyline clip-path=\"url(#clip7400)\" style=\"stroke:#000000; stroke-width:4; stroke-opacity:1; fill:none\" points=\"\n",
       "  229.135,1425.62 2352.76,1425.62 \n",
       "  \"/>\n",
       "<polyline clip-path=\"url(#clip7400)\" style=\"stroke:#000000; stroke-width:4; stroke-opacity:1; fill:none\" points=\"\n",
       "  229.135,1425.62 229.135,121.675 \n",
       "  \"/>\n",
       "<polyline clip-path=\"url(#clip7400)\" style=\"stroke:#000000; stroke-width:4; stroke-opacity:1; fill:none\" points=\"\n",
       "  287.214,1425.62 287.214,1409.97 \n",
       "  \"/>\n",
       "<polyline clip-path=\"url(#clip7400)\" style=\"stroke:#000000; stroke-width:4; stroke-opacity:1; fill:none\" points=\"\n",
       "  793.127,1425.62 793.127,1409.97 \n",
       "  \"/>\n",
       "<polyline clip-path=\"url(#clip7400)\" style=\"stroke:#000000; stroke-width:4; stroke-opacity:1; fill:none\" points=\"\n",
       "  1299.04,1425.62 1299.04,1409.97 \n",
       "  \"/>\n",
       "<polyline clip-path=\"url(#clip7400)\" style=\"stroke:#000000; stroke-width:4; stroke-opacity:1; fill:none\" points=\"\n",
       "  1804.95,1425.62 1804.95,1409.97 \n",
       "  \"/>\n",
       "<polyline clip-path=\"url(#clip7400)\" style=\"stroke:#000000; stroke-width:4; stroke-opacity:1; fill:none\" points=\"\n",
       "  2310.87,1425.62 2310.87,1409.97 \n",
       "  \"/>\n",
       "<polyline clip-path=\"url(#clip7400)\" style=\"stroke:#000000; stroke-width:4; stroke-opacity:1; fill:none\" points=\"\n",
       "  229.135,1343.46 254.619,1343.46 \n",
       "  \"/>\n",
       "<polyline clip-path=\"url(#clip7400)\" style=\"stroke:#000000; stroke-width:4; stroke-opacity:1; fill:none\" points=\"\n",
       "  229.135,1046.9 254.619,1046.9 \n",
       "  \"/>\n",
       "<polyline clip-path=\"url(#clip7400)\" style=\"stroke:#000000; stroke-width:4; stroke-opacity:1; fill:none\" points=\"\n",
       "  229.135,750.328 254.619,750.328 \n",
       "  \"/>\n",
       "<polyline clip-path=\"url(#clip7400)\" style=\"stroke:#000000; stroke-width:4; stroke-opacity:1; fill:none\" points=\"\n",
       "  229.135,453.76 254.619,453.76 \n",
       "  \"/>\n",
       "<polyline clip-path=\"url(#clip7400)\" style=\"stroke:#000000; stroke-width:4; stroke-opacity:1; fill:none\" points=\"\n",
       "  229.135,157.192 254.619,157.192 \n",
       "  \"/>\n",
       "<g clip-path=\"url(#clip7400)\">\n",
       "<text style=\"fill:#000000; fill-opacity:1; font-family:Arial,Helvetica Neue,Helvetica,sans-serif; font-size:48px; text-anchor:middle;\" transform=\"rotate(0, 287.214, 1479.62)\" x=\"287.214\" y=\"1479.62\">0</text>\n",
       "</g>\n",
       "<g clip-path=\"url(#clip7400)\">\n",
       "<text style=\"fill:#000000; fill-opacity:1; font-family:Arial,Helvetica Neue,Helvetica,sans-serif; font-size:48px; text-anchor:middle;\" transform=\"rotate(0, 793.127, 1479.62)\" x=\"793.127\" y=\"1479.62\">250</text>\n",
       "</g>\n",
       "<g clip-path=\"url(#clip7400)\">\n",
       "<text style=\"fill:#000000; fill-opacity:1; font-family:Arial,Helvetica Neue,Helvetica,sans-serif; font-size:48px; text-anchor:middle;\" transform=\"rotate(0, 1299.04, 1479.62)\" x=\"1299.04\" y=\"1479.62\">500</text>\n",
       "</g>\n",
       "<g clip-path=\"url(#clip7400)\">\n",
       "<text style=\"fill:#000000; fill-opacity:1; font-family:Arial,Helvetica Neue,Helvetica,sans-serif; font-size:48px; text-anchor:middle;\" transform=\"rotate(0, 1804.95, 1479.62)\" x=\"1804.95\" y=\"1479.62\">750</text>\n",
       "</g>\n",
       "<g clip-path=\"url(#clip7400)\">\n",
       "<text style=\"fill:#000000; fill-opacity:1; font-family:Arial,Helvetica Neue,Helvetica,sans-serif; font-size:48px; text-anchor:middle;\" transform=\"rotate(0, 2310.87, 1479.62)\" x=\"2310.87\" y=\"1479.62\">1000</text>\n",
       "</g>\n",
       "<g clip-path=\"url(#clip7400)\">\n",
       "<text style=\"fill:#000000; fill-opacity:1; font-family:Arial,Helvetica Neue,Helvetica,sans-serif; font-size:48px; text-anchor:end;\" transform=\"rotate(0, 205.135, 1360.96)\" x=\"205.135\" y=\"1360.96\">20</text>\n",
       "</g>\n",
       "<g clip-path=\"url(#clip7400)\">\n",
       "<text style=\"fill:#000000; fill-opacity:1; font-family:Arial,Helvetica Neue,Helvetica,sans-serif; font-size:48px; text-anchor:end;\" transform=\"rotate(0, 205.135, 1064.4)\" x=\"205.135\" y=\"1064.4\">40</text>\n",
       "</g>\n",
       "<g clip-path=\"url(#clip7400)\">\n",
       "<text style=\"fill:#000000; fill-opacity:1; font-family:Arial,Helvetica Neue,Helvetica,sans-serif; font-size:48px; text-anchor:end;\" transform=\"rotate(0, 205.135, 767.828)\" x=\"205.135\" y=\"767.828\">60</text>\n",
       "</g>\n",
       "<g clip-path=\"url(#clip7400)\">\n",
       "<text style=\"fill:#000000; fill-opacity:1; font-family:Arial,Helvetica Neue,Helvetica,sans-serif; font-size:48px; text-anchor:end;\" transform=\"rotate(0, 205.135, 471.26)\" x=\"205.135\" y=\"471.26\">80</text>\n",
       "</g>\n",
       "<g clip-path=\"url(#clip7400)\">\n",
       "<text style=\"fill:#000000; fill-opacity:1; font-family:Arial,Helvetica Neue,Helvetica,sans-serif; font-size:48px; text-anchor:end;\" transform=\"rotate(0, 205.135, 174.692)\" x=\"205.135\" y=\"174.692\">100</text>\n",
       "</g>\n",
       "<g clip-path=\"url(#clip7400)\">\n",
       "<text style=\"fill:#000000; fill-opacity:1; font-family:Arial,Helvetica Neue,Helvetica,sans-serif; font-size:84px; text-anchor:middle;\" transform=\"rotate(0, 1290.95, 73.2)\" x=\"1290.95\" y=\"73.2\">Wykres funkcji bledu calkownia sin(x) na przedziale [0,1]</text>\n",
       "</g>\n",
       "<g clip-path=\"url(#clip7400)\">\n",
       "<text style=\"fill:#000000; fill-opacity:1; font-family:Arial,Helvetica Neue,Helvetica,sans-serif; font-size:66px; text-anchor:middle;\" transform=\"rotate(0, 1290.95, 1559.48)\" x=\"1290.95\" y=\"1559.48\">Ilosc przedzialow</text>\n",
       "</g>\n",
       "<g clip-path=\"url(#clip7400)\">\n",
       "<text style=\"fill:#000000; fill-opacity:1; font-family:Arial,Helvetica Neue,Helvetica,sans-serif; font-size:66px; text-anchor:middle;\" transform=\"rotate(-90, 89.2861, 773.647)\" x=\"89.2861\" y=\"773.647\">Dokladnosc [%]</text>\n",
       "</g>\n",
       "<polyline clip-path=\"url(#clip7402)\" style=\"stroke:#009af9; stroke-width:4; stroke-opacity:1; fill:none\" points=\"\n",
       "  289.238,1388.71 309.474,279.577 329.711,221.578 349.947,200.869 370.184,190.256 390.42,183.772 410.657,179.417 430.893,176.321 451.13,173.966 471.366,172.127 \n",
       "  491.603,170.643 511.839,169.418 532.076,168.418 552.313,167.579 572.549,166.837 592.786,166.192 613.022,165.644 633.259,165.16 653.495,164.708 673.732,164.321 \n",
       "  693.968,163.966 714.205,163.644 734.441,163.353 754.678,163.095 774.914,162.837 795.151,162.611 815.387,162.418 835.624,162.224 855.86,162.031 876.097,161.869 \n",
       "  896.333,161.74 916.57,161.579 936.806,161.45 957.043,161.321 977.279,161.192 997.516,161.095 1017.75,160.966 1037.99,160.869 1058.23,160.773 1078.46,160.676 \n",
       "  1098.7,160.611 1118.94,160.515 1139.17,160.45 1159.41,160.353 1179.64,160.289 1199.88,160.224 1220.12,160.16 1240.35,160.095 1260.59,160.031 1280.83,159.966 \n",
       "  1301.06,159.934 1321.3,159.869 1341.54,159.837 1361.77,159.773 1382.01,159.74 1402.25,159.676 1422.48,159.644 1442.72,159.579 1462.96,159.547 1483.19,159.515 \n",
       "  1503.43,159.482 1523.67,159.45 1543.9,159.418 1564.14,159.353 1584.38,159.321 1604.61,159.289 1624.85,159.257 1645.08,159.224 1665.32,159.224 1685.56,159.192 \n",
       "  1705.79,159.16 1726.03,159.128 1746.27,159.095 1766.5,159.063 1786.74,159.063 1806.98,159.031 1827.21,158.999 1847.45,158.966 1867.69,158.966 1887.92,158.934 \n",
       "  1908.16,158.902 1928.4,158.902 1948.63,158.87 1968.87,158.837 1989.11,158.837 2009.34,158.805 2029.58,158.805 2049.82,158.773 2070.05,158.773 2090.29,158.74 \n",
       "  2110.52,158.708 2130.76,158.708 2151,158.676 2171.23,158.676 2191.47,158.644 2211.71,158.644 2231.94,158.644 2252.18,158.611 2272.42,158.611 2292.65,158.579 \n",
       "  \n",
       "  \"/>\n",
       "</svg>\n"
      ]
     },
     "execution_count": 177,
     "metadata": {},
     "output_type": "execute_result"
    }
   ],
   "source": [
    "analyticResult = 0.45969\n",
    "\n",
    "xaxis = 1:10:1000\n",
    "errors = [(1-abs((analyticResult \n",
    "                - Riemann(sin, 0, 1, x))/analyticResult))*100 \n",
    "    for x in xaxis]\n",
    "plot(points, \n",
    "    errors,\n",
    "    title=\"Wykres funkcji bledu calkownia sin(x) na przedziale [0,1]\",\n",
    "    xaxis=\"Ilosc przedzialow\", \n",
    "    yaxis=\"Dokladnosc [%]\", \n",
    "    label=\"\")"
   ]
  }
 ],
 "metadata": {
  "kernelspec": {
   "display_name": "Julia 1.4.0",
   "language": "julia",
   "name": "julia-1.4"
  },
  "language_info": {
   "file_extension": ".jl",
   "mimetype": "application/julia",
   "name": "julia",
   "version": "1.4.0"
  }
 },
 "nbformat": 4,
 "nbformat_minor": 2
}
